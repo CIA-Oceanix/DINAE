{
  "nbformat": 4,
  "nbformat_minor": 0,
  "metadata": {
    "colab": {
      "name": "notebookPyTorch_DinAE_MNIST.ipynb",
      "provenance": [],
      "collapsed_sections": [],
      "toc_visible": true,
      "authorship_tag": "ABX9TyP+fSTlkV9Yba3Gwut4EE7a",
      "include_colab_link": true
    },
    "kernelspec": {
      "name": "python3",
      "display_name": "Python 3"
    },
    "accelerator": "GPU"
  },
  "cells": [
    {
      "cell_type": "markdown",
      "metadata": {
        "id": "view-in-github",
        "colab_type": "text"
      },
      "source": [
        "<a href=\"https://colab.research.google.com/github/rfablet/DinAE/blob/master/notebookPyTorch_DinAE_MNIST.ipynb\" target=\"_parent\"><img src=\"https://colab.research.google.com/assets/colab-badge.svg\" alt=\"Open In Colab\"/></a>"
      ]
    },
    {
      "cell_type": "markdown",
      "metadata": {
        "id": "PhV5CxIkMpmw",
        "colab_type": "text"
      },
      "source": [
        "## Install packages"
      ]
    },
    {
      "cell_type": "code",
      "metadata": {
        "id": "8l64w7gvOMXJ",
        "colab_type": "code",
        "colab": {
          "base_uri": "https://localhost:8080/",
          "height": 81
        },
        "outputId": "5e4cf400-bdd6-412d-f000-67c1d931ac24"
      },
      "source": [
        "import numpy as np\n",
        "import matplotlib.pyplot as plt \n",
        "import os\n",
        "import tensorflow.keras as keras\n",
        "\n",
        "import time\n",
        "import copy\n",
        "import torch\n",
        "import torch.optim as optim\n",
        "from torch.optim import lr_scheduler\n",
        "import torch.nn.functional as F\n",
        "\n",
        "from sklearn import decomposition\n"
      ],
      "execution_count": 1,
      "outputs": [
        {
          "output_type": "display_data",
          "data": {
            "text/html": [
              "<p style=\"color: red;\">\n",
              "The default version of TensorFlow in Colab will soon switch to TensorFlow 2.x.<br>\n",
              "We recommend you <a href=\"https://www.tensorflow.org/guide/migrate\" target=\"_blank\">upgrade</a> now \n",
              "or ensure your notebook will continue to use TensorFlow 1.x via the <code>%tensorflow_version 1.x</code> magic:\n",
              "<a href=\"https://colab.research.google.com/notebooks/tensorflow_version.ipynb\" target=\"_blank\">more info</a>.</p>\n"
            ],
            "text/plain": [
              "<IPython.core.display.HTML object>"
            ]
          },
          "metadata": {
            "tags": []
          }
        }
      ]
    },
    {
      "cell_type": "code",
      "metadata": {
        "id": "RUmFTdFnVFDk",
        "colab_type": "code",
        "colab": {
          "base_uri": "https://localhost:8080/",
          "height": 89
        },
        "outputId": "875bbe7e-e7a1-429e-8553-87f4cf8704ce"
      },
      "source": [
        "!pip install torchviz\n",
        "import torchviz"
      ],
      "execution_count": 2,
      "outputs": [
        {
          "output_type": "stream",
          "text": [
            "Requirement already satisfied: torchviz in /usr/local/lib/python3.6/dist-packages (0.0.1)\n",
            "Requirement already satisfied: torch in /usr/local/lib/python3.6/dist-packages (from torchviz) (1.4.0)\n",
            "Requirement already satisfied: graphviz in /usr/local/lib/python3.6/dist-packages (from torchviz) (0.10.1)\n"
          ],
          "name": "stdout"
        }
      ]
    },
    {
      "cell_type": "code",
      "metadata": {
        "id": "q35bMkwXVR-0",
        "colab_type": "code",
        "colab": {
          "base_uri": "https://localhost:8080/",
          "height": 207
        },
        "outputId": "ca371558-309d-49fa-aee3-b3a308f1a087"
      },
      "source": [
        "#!mkdir /content/PythonCode\n",
        "#os.mkdir('/content/PythonCode')\n",
        "#os.chdir('/content/PythonCode/')\n",
        "#!git clone https://github.com/CIA-Oceanix/DinAE.git\n",
        "os.chdir('/content/PythonCode/DinAE')\n",
        "!git pull\n",
        "#import DinAE"
      ],
      "execution_count": 76,
      "outputs": [
        {
          "output_type": "stream",
          "text": [
            "remote: Enumerating objects: 5, done.\u001b[K\n",
            "remote: Counting objects:  20% (1/5)\u001b[K\rremote: Counting objects:  40% (2/5)\u001b[K\rremote: Counting objects:  60% (3/5)\u001b[K\rremote: Counting objects:  80% (4/5)\u001b[K\rremote: Counting objects: 100% (5/5)\u001b[K\rremote: Counting objects: 100% (5/5), done.\u001b[K\n",
            "remote: Compressing objects:  50% (1/2)\u001b[K\rremote: Compressing objects: 100% (2/2)\u001b[K\rremote: Compressing objects: 100% (2/2), done.\u001b[K\n",
            "remote: Total 3 (delta 1), reused 3 (delta 1), pack-reused 0\u001b[K\n",
            "Unpacking objects:  33% (1/3)   \rUnpacking objects:  66% (2/3)   \rUnpacking objects: 100% (3/3)   \rUnpacking objects: 100% (3/3), done.\n",
            "From https://github.com/CIA-Oceanix/DinAE\n",
            "   1008e4b..0431431  master     -> origin/master\n",
            "Updating 1008e4b..0431431\n",
            "Fast-forward\n",
            " dinAE_solver_torch.py | 23 \u001b[32m++++++++++++++++++++++\u001b[m\u001b[31m-\u001b[m\n",
            " 1 file changed, 22 insertions(+), 1 deletion(-)\n"
          ],
          "name": "stdout"
        }
      ]
    },
    {
      "cell_type": "code",
      "metadata": {
        "id": "cF-Con2F9HO1",
        "colab_type": "code",
        "colab": {}
      },
      "source": [
        "os.mkdir('/content/PythonCode2')\n"
      ],
      "execution_count": 0,
      "outputs": []
    },
    {
      "cell_type": "code",
      "metadata": {
        "id": "6z0kWSenXeya",
        "colab_type": "code",
        "colab": {}
      },
      "source": [
        "#os.mkdir('/content/PythonCode')\n",
        "#os.chdir('/content/PythonCode')\n",
        "#!git clone https://github.com/CIA-Oceanix/DinAE.git\n",
        "os.chdir('/content/PythonCode/DinAE')\n",
        "import dinAE_solver_torch as dinAE"
      ],
      "execution_count": 0,
      "outputs": []
    },
    {
      "cell_type": "code",
      "metadata": {
        "id": "QhXvnm4tOifI",
        "colab_type": "code",
        "colab": {
          "base_uri": "https://localhost:8080/",
          "height": 89
        },
        "outputId": "c26a9a3c-1441-4012-e599-a2bd06c46e50"
      },
      "source": [
        "# mount gdrive\n",
        "from google.colab import drive\n",
        "drive.mount('/content/drive')\n",
        "\n",
        "!ls /content/drive/My\\ Drive/ResearchData/patchDataset_OcciputData.nc\n",
        "import os\n",
        "os.chdir('/content/drive/My Drive/')\n",
        "!pwd"
      ],
      "execution_count": 4,
      "outputs": [
        {
          "output_type": "stream",
          "text": [
            "Drive already mounted at /content/drive; to attempt to forcibly remount, call drive.mount(\"/content/drive\", force_remount=True).\n",
            "'/content/drive/My Drive/ResearchData/patchDataset_OcciputData.nc'\n",
            "/content/drive/My Drive\n"
          ],
          "name": "stdout"
        }
      ]
    },
    {
      "cell_type": "markdown",
      "metadata": {
        "id": "PBoD1pUwM3bj",
        "colab_type": "text"
      },
      "source": [
        "# Load and prepare data (MNIST/image data)"
      ]
    },
    {
      "cell_type": "code",
      "metadata": {
        "id": "o0OJYM8JOjVw",
        "colab_type": "code",
        "colab": {}
      },
      "source": [
        "### load datasets\n",
        "flagDataset = 0\n",
        "\n",
        "if flagDataset == 0: ## MNIST\n",
        "  (x_train, y_train), (x_test, y_test) = keras.datasets.mnist.load_data()\n",
        "elif flagDataset == 1: ## FASHION MNIST\n",
        "  (x_train, y_train), (x_test, y_test) = keras.datasets.fashion_mnist.load_data()\n",
        "#elif flagDataset == 2: ## OCCIPUT"
      ],
      "execution_count": 0,
      "outputs": []
    },
    {
      "cell_type": "code",
      "metadata": {
        "id": "fzV6xuhYOnDr",
        "colab_type": "code",
        "colab": {}
      },
      "source": [
        "# data normalization\n",
        "if 1*1:\n",
        "  meanTr     = np.mean(x_train[:]) \n",
        "  x_train    = x_train - meanTr\n",
        "  x_test     = x_test - meanTr\n",
        "\n",
        "  # scale wrt std\n",
        "  stdTr      = np.sqrt( np.mean( x_train**2 ) )\n",
        "  x_train    = x_train / stdTr\n",
        "  x_test     = x_test / stdTr\n",
        "  \n",
        "else:\n",
        "  mini = np.amin(x_train[:])\n",
        "  maxi = np.amax(x_train[:])\n",
        "  \n",
        "  x_train = (x_train - mini ) /(maxi-mini)\n",
        "  x_test  = (x_test - mini ) /(maxi-mini)"
      ],
      "execution_count": 0,
      "outputs": []
    },
    {
      "cell_type": "code",
      "metadata": {
        "id": "eUHDuTNuO-n2",
        "colab_type": "code",
        "colab": {}
      },
      "source": [
        "Wsquare = int(4)\n",
        "Nsquare = int(3)\n",
        "\n",
        "# generate missing data areas for training data\n",
        "x_train_missing = np.copy(x_train).astype(float)\n",
        "mask_train      = np.zeros((x_train.shape))\n",
        "mask_test       = np.zeros((x_test.shape))\n",
        "\n",
        "for ii in range(x_train.shape[0]):\n",
        "  # generate mask\n",
        "  mask   = np.ones((x_train.shape[1],x_train.shape[2])).astype(float)\n",
        "  i_area = np.floor(np.random.uniform(Wsquare,x_train.shape[1]-Wsquare,Nsquare)).astype(int)\n",
        "  j_area = np.floor(np.random.uniform(Wsquare,x_train.shape[2]-Wsquare,Nsquare)).astype(int)\n",
        "  \n",
        "  for nn in range(Nsquare):\n",
        "    mask[i_area[nn]-Wsquare:i_area[nn]+Wsquare+1,j_area[nn]-Wsquare:j_area[nn]+Wsquare+1] = 0.\n",
        "    \n",
        "  # apply mask\n",
        "  x_train_missing[ii,:,:] *= mask\n",
        "  mask_train[ii,:,:]       = mask     \n",
        "  \n",
        "## generate missing data areas for test data\n",
        "x_test_missing = np.copy(x_test).astype(float)\n",
        "\n",
        "for ii in range(x_test.shape[0]):\n",
        "  # generate mask\n",
        "  mask   = np.ones((x_test.shape[1],x_test.shape[2])).astype(float)\n",
        "  i_area = np.floor(np.random.uniform(Wsquare,x_test.shape[1]-Wsquare,Nsquare)).astype(int)\n",
        "  j_area = np.floor(np.random.uniform(Wsquare,x_test.shape[2]-Wsquare,Nsquare)).astype(int)\n",
        "  \n",
        "  for nn in range(Nsquare):\n",
        "    mask[i_area[nn]-Wsquare:i_area[nn]+Wsquare+1,j_area[nn]-Wsquare:j_area[nn]+Wsquare+1] = 0.\n",
        "    \n",
        "  # apply mask\n",
        "  x_test_missing[ii,:,:] *= mask\n",
        "  mask_test[ii,:,:]      = mask     \n"
      ],
      "execution_count": 0,
      "outputs": []
    },
    {
      "cell_type": "code",
      "metadata": {
        "id": "on6EitLoPOtl",
        "colab_type": "code",
        "colab": {}
      },
      "source": [
        "# random selection of indices for visualization\n",
        "indexes_train = np.random.permutation(x_train.shape[0])\n",
        "indexes_test  = np.random.permutation(x_test.shape[0])"
      ],
      "execution_count": 0,
      "outputs": []
    },
    {
      "cell_type": "code",
      "metadata": {
        "id": "X3BsJarQPdYF",
        "colab_type": "code",
        "colab": {
          "base_uri": "https://localhost:8080/",
          "height": 429
        },
        "outputId": "96f81685-ba95-48a1-a30d-a443ee358fd4"
      },
      "source": [
        "# visualize missing data pattern for training data\n",
        "plt.figure()\n",
        "for ii in range(5):\n",
        "    plt.subplot(2, 5, ii + 1)\n",
        "    plt.axis('off')\n",
        "    plt.imshow(x_train[indexes_train[ii],:,:], cmap=plt.cm.gray_r)\n",
        "    plt.title('GT:%i' %(y_train[indexes_train[ii]]))\n",
        "    plt.subplot(2, 5, ii + 1+5)\n",
        "    plt.axis('off')\n",
        "    plt.imshow(x_train_missing[indexes_train[ii],:,:], cmap=plt.cm.gray_r)\n",
        "plt.show()\n",
        "\n",
        "# visualize missing data pattern for test data\n",
        "plt.figure()\n",
        "for ii in range(5):\n",
        "    plt.subplot(2, 5, ii + 1)\n",
        "    plt.axis('off')\n",
        "    plt.imshow(x_test[indexes_test[ii],:,:], cmap=plt.cm.gray_r)\n",
        "    plt.title('GT:%i' %(y_test[indexes_test[ii]]))\n",
        "    plt.subplot(2, 5, ii + 1+5)\n",
        "    plt.axis('off')\n",
        "    plt.imshow(x_test_missing[indexes_test[ii],:,:], cmap=plt.cm.gray_r)\n",
        "plt.show()"
      ],
      "execution_count": 19,
      "outputs": [
        {
          "output_type": "display_data",
          "data": {
            "image/png": "[encoded data removed]",
            "text/plain": [
              "<Figure size 432x288 with 10 Axes>"
            ]
          },
          "metadata": {
            "tags": []
          }
        },
        {
          "output_type": "display_data",
          "data": {
            "image/png": "[encoded data removed]",
            "text/plain": [
              "<Figure size 432x288 with 10 Axes>"
            ]
          },
          "metadata": {
            "tags": []
          }
        }
      ]
    },
    {
      "cell_type": "code",
      "metadata": {
        "id": "5EalHW7NPCui",
        "colab_type": "code",
        "colab": {}
      },
      "source": [
        "Ntr = 10000\n",
        "Ntt = 5000\n",
        "\n",
        "x_train = x_train[indexes_train[0:Ntr],:,:]\n",
        "y_train = y_train[indexes_train[0:Ntr]]\n",
        "x_train_missing = x_train_missing[indexes_train[0:Ntr],:,:]\n",
        "mask_train = mask_train[indexes_train[0:Ntr],:,:]\n",
        "\n",
        "x_test  = x_test[indexes_test[0:Ntt],:,:]\n",
        "y_test  = y_test[indexes_test[0:Ntt]]\n",
        "x_test_missing = x_test_missing[indexes_test[0:Ntt],:,:]\n",
        "mask_test = mask_test[indexes_test[0:Ntt],:,:]\n"
      ],
      "execution_count": 0,
      "outputs": []
    },
    {
      "cell_type": "code",
      "metadata": {
        "id": "cfj4X9p88js9",
        "colab_type": "code",
        "colab": {}
      },
      "source": [
        "x_train         = x_train.reshape((x_train.shape[0],1,x_train.shape[1],x_train.shape[2]))\n",
        "x_train_missing = x_train_missing.reshape((x_train_missing.shape[0],1,x_train.shape[2],x_train.shape[3]))\n",
        "mask_train      = mask_train.reshape((x_train.shape[0],1,x_train.shape[2],x_train.shape[3]))\n",
        "\n",
        "x_test         = x_test.reshape((x_test.shape[0],1,x_test.shape[1],x_test.shape[2]))\n",
        "x_test_missing = x_test_missing.reshape((x_test.shape[0],1,x_test.shape[2],x_test.shape[3]))\n",
        "mask_test      = mask_test.reshape((x_test.shape[0],1,x_test.shape[2],x_test.shape[3]))\n"
      ],
      "execution_count": 0,
      "outputs": []
    },
    {
      "cell_type": "markdown",
      "metadata": {
        "id": "lz9jt7vhdSNg",
        "colab_type": "text"
      },
      "source": [
        "# PCA Decomposition & AE artchitecture"
      ]
    },
    {
      "cell_type": "code",
      "metadata": {
        "id": "kBmY_dJodiTu",
        "colab_type": "code",
        "colab": {}
      },
      "source": [
        "DimAE      = 20#50"
      ],
      "execution_count": 0,
      "outputs": []
    },
    {
      "cell_type": "code",
      "metadata": {
        "id": "bcxDm4jgPwUu",
        "colab_type": "code",
        "colab": {
          "base_uri": "https://localhost:8080/",
          "height": 69
        },
        "outputId": "34dc4261-70d0-407d-aaec-ab536552d953"
      },
      "source": [
        "# PCA decomposition\n",
        "pca              = decomposition.PCA(DimAE)\n",
        "pca.fit(np.reshape(x_train,(x_train.shape[0],x_train.shape[1]*x_train.shape[2]*x_train.shape[3])))\n",
        "\n",
        "rec_PCA_Tt       = pca.transform(np.reshape(x_test,(x_test.shape[0],x_test.shape[1]*x_test.shape[2]*x_test.shape[3])))\n",
        "rec_PCA_Tt[:,DimAE:] = 0.\n",
        "rec_PCA_Tt       = pca.inverse_transform(rec_PCA_Tt)\n",
        "mse_PCA_Tt       = np.mean( (rec_PCA_Tt - x_test.reshape((x_test.shape[0],x_test.shape[1]*x_test.shape[2]*x_test.shape[3])))**2 )\n",
        "var_Tt           = np.mean( (x_test-np.mean(x_train,axis=0))** 2 )\n",
        "exp_var_PCA_Tt   = 1. - mse_PCA_Tt / var_Tt\n",
        "\n",
        "print(\".......... PCA Dim = %d\"%(DimAE))\n",
        "print('.... explained variance PCA (Tr) : %.2f%%'%(100.*np.cumsum(pca.explained_variance_ratio_)[DimAE-1]))\n",
        "print('.... explained variance PCA (Tt) : %.2f%%'%(100.*exp_var_PCA_Tt))\n",
        "\n",
        "# visualize PCs and associated projection\n",
        "PC              = np.zeros((DimAE+1,x_test.shape[1]*x_test.shape[2]*x_test.shape[3])) * float('NaN')                        \n",
        "PC[1:DimAE+1,:] = pca.components_\n",
        "PC[0,:]         = pca.mean_\n",
        "PC              = np.reshape(PC,(DimAE+1,x_test.shape[1],x_test.shape[2],x_test.shape[3]))"
      ],
      "execution_count": 13,
      "outputs": [
        {
          "output_type": "stream",
          "text": [
            ".......... PCA Dim = 20\n",
            ".... explained variance PCA (Tr) : 64.54%\n",
            ".... explained variance PCA (Tt) : 65.02%\n"
          ],
          "name": "stdout"
        }
      ]
    },
    {
      "cell_type": "code",
      "metadata": {
        "id": "I0kw3EDW5tFK",
        "colab_type": "code",
        "colab": {}
      },
      "source": [
        "class ResNetConv2D(torch.nn.Module):\n",
        "  def __init__(self,Nblocks,dim,K,\n",
        "                 kernel_size,\n",
        "                 padding=0):\n",
        "      super(ResNetConv2D, self).__init__()\n",
        "      self.resnet = self._make_ResNet(Nblocks,dim,K,kernel_size,padding)\n",
        "\n",
        "  def _make_ResNet(self,Nblocks,dim,K,kernel_size,padding):\n",
        "      layers = []\n",
        "      for kk in range(0,Nblocks):\n",
        "        layers.append(torch.nn.Conv2d(dim,K*dim,kernel_size,padding=padding,bias=False))\n",
        "        layers.append(torch.nn.Conv2d(K*dim,dim,kernel_size,padding=padding,bias=False))\n",
        "\n",
        "      return torch.nn.Sequential(*layers)\n",
        "\n",
        "\n",
        "  def forward(self, x):\n",
        "      x = self.resnet ( x )\n",
        "\n",
        "      return x"
      ],
      "execution_count": 0,
      "outputs": []
    },
    {
      "cell_type": "code",
      "metadata": {
        "id": "iCbFN667BMRI",
        "colab_type": "code",
        "colab": {
          "base_uri": "https://localhost:8080/",
          "height": 612
        },
        "outputId": "39d395c3-10d6-4c2a-d71d-28a0249fa316"
      },
      "source": [
        "resnet = ResNetConv2D(2,1,5,3,1)\n",
        "print(resnet)\n",
        "print('Number of trainable parameters = %d'%(sum(p.numel() for p in model_AE.parameters() if p.requires_grad)))\n",
        "\n",
        "#Model visualisation\n",
        "inputs = torch.randn(21,1,28,28)\n",
        "y = resnet(torch.autograd.Variable(inputs))\n",
        "print(y.size())\n",
        "torchviz.make_dot(y)"
      ],
      "execution_count": 71,
      "outputs": [
        {
          "output_type": "stream",
          "text": [
            "ResNetConv2D(\n",
            "  (resnet): Sequential(\n",
            "    (0): Conv2d(1, 5, kernel_size=(3, 3), stride=(1, 1), padding=(1, 1), bias=False)\n",
            "    (1): Conv2d(5, 1, kernel_size=(3, 3), stride=(1, 1), padding=(1, 1), bias=False)\n",
            "    (2): Conv2d(1, 5, kernel_size=(3, 3), stride=(1, 1), padding=(1, 1), bias=False)\n",
            "    (3): Conv2d(5, 1, kernel_size=(3, 3), stride=(1, 1), padding=(1, 1), bias=False)\n",
            "  )\n",
            ")\n",
            "Number of trainable parameters = 248380\n",
            "torch.Size([21, 1, 28, 28])\n"
          ],
          "name": "stdout"
        },
        {
          "output_type": "execute_result",
          "data": {
            "text/plain": [
              "<graphviz.dot.Digraph at 0x7f6f0e7297b8>"
            ],
            "image/svg+xml": "<?xml version=\"1.0\" encoding=\"UTF-8\" standalone=\"no\"?>\n<!DOCTYPE svg PUBLIC \"-//W3C//DTD SVG 1.1//EN\"\n \"http://www.w3.org/Graphics/SVG/1.1/DTD/svg11.dtd\">\n<!-- Generated by graphviz version 2.40.1 (20161225.0304)\n -->\n<!-- Title: %3 Pages: 1 -->\n<svg width=\"392pt\" height=\"313pt\"\n viewBox=\"0.00 0.00 391.50 313.00\" xmlns=\"http://www.w3.org/2000/svg\" xmlns:xlink=\"http://www.w3.org/1999/xlink\">\n<g id=\"graph0\" class=\"graph\" transform=\"scale(1 1) rotate(0) translate(4 309)\">\n<title>%3</title>\n<polygon fill=\"#ffffff\" stroke=\"transparent\" points=\"-4,4 -4,-309 387.5,-309 387.5,4 -4,4\"/>\n<!-- 140114960490448 -->\n<g id=\"node1\" class=\"node\">\n<title>140114960490448</title>\n<polygon fill=\"#caff70\" stroke=\"#000000\" points=\"363,-21 201,-21 201,0 363,0 363,-21\"/>\n<text text-anchor=\"middle\" x=\"282\" y=\"-7.4\" font-family=\"Times,serif\" font-size=\"12.00\" fill=\"#000000\">MkldnnConvolutionBackward</text>\n</g>\n<!-- 140114960487704 -->\n<g id=\"node2\" class=\"node\">\n<title>140114960487704</title>\n<polygon fill=\"#d3d3d3\" stroke=\"#000000\" points=\"296,-85 134,-85 134,-64 296,-64 296,-85\"/>\n<text text-anchor=\"middle\" x=\"215\" y=\"-71.4\" font-family=\"Times,serif\" font-size=\"12.00\" fill=\"#000000\">MkldnnConvolutionBackward</text>\n</g>\n<!-- 140114960487704&#45;&gt;140114960490448 -->\n<g id=\"edge1\" class=\"edge\">\n<title>140114960487704&#45;&gt;140114960490448</title>\n<path fill=\"none\" stroke=\"#000000\" d=\"M226.0637,-63.9317C236.1861,-54.2625 251.3665,-39.7619 263.3599,-28.3054\"/>\n<polygon fill=\"#000000\" stroke=\"#000000\" points=\"265.8824,-30.7362 270.6959,-21.2979 261.0472,-25.6744 265.8824,-30.7362\"/>\n</g>\n<!-- 140115255795272 -->\n<g id=\"node3\" class=\"node\">\n<title>140115255795272</title>\n<polygon fill=\"#d3d3d3\" stroke=\"#000000\" points=\"229,-156 67,-156 67,-135 229,-135 229,-156\"/>\n<text text-anchor=\"middle\" x=\"148\" y=\"-142.4\" font-family=\"Times,serif\" font-size=\"12.00\" fill=\"#000000\">MkldnnConvolutionBackward</text>\n</g>\n<!-- 140115255795272&#45;&gt;140114960487704 -->\n<g id=\"edge2\" class=\"edge\">\n<title>140115255795272&#45;&gt;140114960487704</title>\n<path fill=\"none\" stroke=\"#000000\" d=\"M158.1759,-134.7166C168.6044,-123.6655 185.0196,-106.2703 197.5311,-93.0118\"/>\n<polygon fill=\"#000000\" stroke=\"#000000\" points=\"200.4107,-95.06 204.7284,-85.3849 195.3196,-90.2557 200.4107,-95.06\"/>\n</g>\n<!-- 140115255795664 -->\n<g id=\"node4\" class=\"node\">\n<title>140115255795664</title>\n<polygon fill=\"#d3d3d3\" stroke=\"#000000\" points=\"162,-227 0,-227 0,-206 162,-206 162,-227\"/>\n<text text-anchor=\"middle\" x=\"81\" y=\"-213.4\" font-family=\"Times,serif\" font-size=\"12.00\" fill=\"#000000\">MkldnnConvolutionBackward</text>\n</g>\n<!-- 140115255795664&#45;&gt;140115255795272 -->\n<g id=\"edge3\" class=\"edge\">\n<title>140115255795664&#45;&gt;140115255795272</title>\n<path fill=\"none\" stroke=\"#000000\" d=\"M91.1759,-205.7166C101.6044,-194.6655 118.0196,-177.2703 130.5311,-164.0118\"/>\n<polygon fill=\"#000000\" stroke=\"#000000\" points=\"133.4107,-166.06 137.7284,-156.3849 128.3196,-161.2557 133.4107,-166.06\"/>\n</g>\n<!-- 140115255820472 -->\n<g id=\"node5\" class=\"node\">\n<title>140115255820472</title>\n<polygon fill=\"#add8e6\" stroke=\"#000000\" points=\"115.5,-305 46.5,-305 46.5,-270 115.5,-270 115.5,-305\"/>\n<text text-anchor=\"middle\" x=\"81\" y=\"-277.4\" font-family=\"Times,serif\" font-size=\"12.00\" fill=\"#000000\"> (5, 1, 3, 3)</text>\n</g>\n<!-- 140115255820472&#45;&gt;140115255795664 -->\n<g id=\"edge4\" class=\"edge\">\n<title>140115255820472&#45;&gt;140115255795664</title>\n<path fill=\"none\" stroke=\"#000000\" d=\"M81,-269.9494C81,-260.058 81,-247.6435 81,-237.2693\"/>\n<polygon fill=\"#000000\" stroke=\"#000000\" points=\"84.5001,-237.0288 81,-227.0288 77.5001,-237.0289 84.5001,-237.0288\"/>\n</g>\n<!-- 140115255820360 -->\n<g id=\"node6\" class=\"node\">\n<title>140115255820360</title>\n<polygon fill=\"#add8e6\" stroke=\"#000000\" points=\"249.5,-234 180.5,-234 180.5,-199 249.5,-199 249.5,-234\"/>\n<text text-anchor=\"middle\" x=\"215\" y=\"-206.4\" font-family=\"Times,serif\" font-size=\"12.00\" fill=\"#000000\"> (1, 5, 3, 3)</text>\n</g>\n<!-- 140115255820360&#45;&gt;140115255795272 -->\n<g id=\"edge5\" class=\"edge\">\n<title>140115255820360&#45;&gt;140115255795272</title>\n<path fill=\"none\" stroke=\"#000000\" d=\"M198.4382,-198.9494C188.2103,-188.1109 175.1238,-174.2431 164.844,-163.3496\"/>\n<polygon fill=\"#000000\" stroke=\"#000000\" points=\"167.3445,-160.8997 157.9357,-156.0288 162.2534,-165.704 167.3445,-160.8997\"/>\n</g>\n<!-- 140115255795552 -->\n<g id=\"node7\" class=\"node\">\n<title>140115255795552</title>\n<polygon fill=\"#add8e6\" stroke=\"#000000\" points=\"316.5,-163 247.5,-163 247.5,-128 316.5,-128 316.5,-163\"/>\n<text text-anchor=\"middle\" x=\"282\" y=\"-135.4\" font-family=\"Times,serif\" font-size=\"12.00\" fill=\"#000000\"> (5, 1, 3, 3)</text>\n</g>\n<!-- 140115255795552&#45;&gt;140114960487704 -->\n<g id=\"edge6\" class=\"edge\">\n<title>140115255795552&#45;&gt;140114960487704</title>\n<path fill=\"none\" stroke=\"#000000\" d=\"M265.4382,-127.9494C255.2103,-117.1109 242.1238,-103.2431 231.844,-92.3496\"/>\n<polygon fill=\"#000000\" stroke=\"#000000\" points=\"234.3445,-89.8997 224.9357,-85.0288 229.2534,-94.704 234.3445,-89.8997\"/>\n</g>\n<!-- 140115255794936 -->\n<g id=\"node8\" class=\"node\">\n<title>140115255794936</title>\n<polygon fill=\"#add8e6\" stroke=\"#000000\" points=\"383.5,-92 314.5,-92 314.5,-57 383.5,-57 383.5,-92\"/>\n<text text-anchor=\"middle\" x=\"349\" y=\"-64.4\" font-family=\"Times,serif\" font-size=\"12.00\" fill=\"#000000\"> (1, 5, 3, 3)</text>\n</g>\n<!-- 140115255794936&#45;&gt;140114960490448 -->\n<g id=\"edge7\" class=\"edge\">\n<title>140115255794936&#45;&gt;140114960490448</title>\n<path fill=\"none\" stroke=\"#000000\" d=\"M330.3368,-56.6724C321.0197,-47.7726 309.7839,-37.0398 300.4907,-28.1628\"/>\n<polygon fill=\"#000000\" stroke=\"#000000\" points=\"302.8748,-25.5999 293.2261,-21.2234 298.0396,-30.6617 302.8748,-25.5999\"/>\n</g>\n</g>\n</svg>\n"
          },
          "metadata": {
            "tags": []
          },
          "execution_count": 71
        }
      ]
    },
    {
      "cell_type": "code",
      "metadata": {
        "id": "lds7AJfYYavr",
        "colab_type": "code",
        "colab": {
          "base_uri": "https://localhost:8080/",
          "height": 466
        },
        "outputId": "198cfc06-0dde-4391-91c5-7bafc037d2ee"
      },
      "source": [
        "flagAEType = 1\n",
        "dropout = 0.05\n",
        "wl2     = 0\n",
        "shapeData = x_train.shape[1:]\n",
        "\n",
        "if flagAEType == 0: ## MLP-AE\n",
        "\n",
        "  class Encoder(torch.nn.Module):\n",
        "      def __init__(self):\n",
        "          super(Encoder, self).__init__()\n",
        "          self.fc1 = torch.nn.Linear(shapeData[0]*shapeData[1]*shapeData[2],6*DimAE)\n",
        "          self.fc2 = torch.nn.Linear(6*DimAE,2*DimAE)\n",
        "          self.fc3 = torch.nn.Linear(2*DimAE,DimAE)\n",
        "\n",
        "      def forward(self, x):\n",
        "          #x = self.fc1( torch.nn.Flatten(x) )\n",
        "          x = self.fc1( x.view(-1,shapeData[0]*shapeData[1]*shapeData[2]) )\n",
        "          x = self.fc2( F.relu(x) )\n",
        "          x = self.fc3( F.relu(x) )\n",
        "          return x\n",
        "\n",
        "  encoder = Encoder()\n",
        "\n",
        "  class Decoder(torch.nn.Module):\n",
        "      def __init__(self):\n",
        "          super(Decoder, self).__init__()\n",
        "          self.fc1 = torch.nn.Linear(DimAE,10*DimAE)\n",
        "          self.fc2 = torch.nn.Linear(10*DimAE,20*DimAE)\n",
        "          self.fc3 = torch.nn.Linear(20*DimAE,shapeData[0]*shapeData[1]*shapeData[2])\n",
        "\n",
        "      def forward(self, x):\n",
        "          x = self.fc1( x )\n",
        "          x = self.fc2( F.relu(x) )\n",
        "          x = self.fc3( F.relu(x) )\n",
        "          x = x.view(-1,shapeData[0],shapeData[1],shapeData[2])\n",
        "          return x\n",
        "\n",
        "elif flagAEType == 1: ## Conv-AE\n",
        "  Wpool_i = np.floor(  (np.floor((x_train.shape[2]-2)/2)-2)/2 ).astype(int) \n",
        "  Wpool_j = np.floor(  (np.floor((x_train.shape[3]-2)/2)-2)/2 ).astype(int)\n",
        "\n",
        "  class Encoder(torch.nn.Module):\n",
        "      def __init__(self):\n",
        "          super(Encoder, self).__init__()\n",
        "          self.conv1 = torch.nn.Conv2d(shapeData[0],DimAE,(3,3),padding=0)\n",
        "          self.pool1 = torch.nn.AvgPool2d((2,2))\n",
        "          self.conv2 = torch.nn.Conv2d(DimAE,2*DimAE,(3,3),padding=0)\n",
        "          self.pool2 = torch.nn.AvgPool2d((2,2))\n",
        "          self.conv3 = torch.nn.Conv2d(2*DimAE,4*DimAE,(Wpool_i,Wpool_j),padding=0)\n",
        "          self.conv4 = torch.nn.Conv2d(4*DimAE,DimAE,(1,1),padding=0)\n",
        "\n",
        "      def forward(self, x):\n",
        "          #x = self.fc1( torch.nn.Flatten(x) )\n",
        "          x = self.conv1( x )\n",
        "          x = self.pool1(x)\n",
        "          x = self.conv2( F.relu(x) )\n",
        "          x = self.pool2(x)\n",
        "          x = self.conv3( F.relu(x) )\n",
        "          x = self.conv4( F.relu(x) )\n",
        "          x = x.view(-1,DimAE)\n",
        "          return x\n",
        "\n",
        "  class Decoder(torch.nn.Module):\n",
        "      def __init__(self):\n",
        "          super(Decoder, self).__init__()\n",
        "          #self.conv1Tr = torch.nn.ConvTranspose2d(DimAE,1,(x_train.shape[1],x_train.shape[2]),stride=(x_train.shape[1],x_train.shape[2]),bias=False)\n",
        "          self.conv1Tr = torch.nn.ConvTranspose2d(DimAE,DimAE,(int(x_train.shape[2]/2),int(x_train.shape[3]/2)),stride=(int(x_train.shape[2]/2),int(x_train.shape[3]/2)),bias=False)\n",
        "          self.conv11   = torch.nn.Conv2d(DimAE,DimAE,(3,3),padding=1)\n",
        "          self.conv12   = torch.nn.Conv2d(DimAE,DimAE,(3,3),padding=1)\n",
        "          self.conv2Tr = torch.nn.ConvTranspose2d(DimAE,DimAE,(2,2),stride=(2,2),bias=False)\n",
        "          #self.resnet  = self._make_ResNet(2,DimAE,5,3,1)\n",
        "          self.resnet = dinAE.ResNetConv2D(2,DimAE,5,3,1)\n",
        "          self.convF   = torch.nn.Conv2d(DimAE,1,(1,1),padding=0)\n",
        "      def _make_ResNet(self,Nblocks,dim,K,kernel_size, padding):\n",
        "          layers = []\n",
        "          for kk in range(0,Nblocks):\n",
        "            layers.append(torch.nn.Conv2d(dim,K*dim,kernel_size,padding=padding,bias=False))\n",
        "            layers.append(torch.nn.Conv2d(K*dim,dim,kernel_size,padding=padding,bias=False))\n",
        "\n",
        "          return torch.nn.Sequential(*layers)\n",
        "\n",
        "      def forward(self, x):\n",
        "          x = x.view(-1,DimAE,1,1)\n",
        "          x = self.conv1Tr( x )\n",
        "          x = torch.add(self.conv12( F.relu( self.conv11(x) ) ),x)\n",
        "          x = torch.add(self.conv12( F.relu( self.conv11(x) ) ),x)\n",
        "          x = self.conv2Tr( x )\n",
        "          x = self.resnet(x)\n",
        "          x = self.convF(x)\n",
        "\n",
        "          #x = torch.add(self.conv22( F.relu( self.conv21(x) ) ),x)\n",
        "          #x = torch.add(self.conv22( F.relu( self.conv21(x) ) ),x)\n",
        "          #x = self.conv3( x )\n",
        "          #x = x.view(-1,shapeData[0],shapeData[1],shapeData[2])\n",
        "          return x\n",
        "\n",
        "elif flagAEType == 2: ## Conv model with no use of the central point\n",
        "  Wpool_i = np.floor(  (np.floor((x_train.shape[1]-2)/2)-2)/2 ).astype(int) \n",
        "  Wpool_j = np.floor(  (np.floor((x_train.shape[2]-2)/2)-2)/2 ).astype(int)\n",
        "\n",
        "  class Encoder(torch.nn.Module):\n",
        "      def __init__(self):\n",
        "          super(Encoder, self).__init__()\n",
        "          self.pool1 = torch.nn.AvgPool2d((2,2))\n",
        "          self.conv1 = dinAE.ConstrainedConv2d(shapeData[0],shapeData[0]*DimAE,(3,3),padding=1)\n",
        "          self.conv2 = torch.nn.Conv2d(shapeData[0]*DimAE,2*shapeData[0]*DimAE,(1,1),padding=0)\n",
        "          self.conv3 = torch.nn.Conv2d(2*shapeData[0]*DimAE,4*shapeData[0]*DimAE,(1,1),padding=0)\n",
        "          self.conv4 = torch.nn.Conv2d(4*shapeData[0]*DimAE,8*shapeData[0]*DimAE,(1,1),padding=0)\n",
        "          self.conv2Tr = torch.nn.ConvTranspose2d(8*shapeData[0]*DimAE,8*shapeData[0]*DimAE,(2,2),stride=(2,2),bias=False)          \n",
        "          self.conv5 = torch.nn.Conv2d(8*shapeData[0]*DimAE,16*shapeData[0]*DimAE,(3,3),padding=1)\n",
        "          self.conv6 = torch.nn.Conv2d(16*shapeData[0]*DimAE,1,(3,3),padding=1)\n",
        "\n",
        "      def forward(self, x):\n",
        "          #x = self.fc1( torch.nn.Flatten(x) )\n",
        "          x = self.pool1( x )\n",
        "          x = self.conv1(x)\n",
        "          x = self.conv2( F.relu(x) )\n",
        "          x = self.conv3( F.relu(x) )\n",
        "          x = self.conv4( F.relu(x) )\n",
        "          x = self.conv2Tr( x )\n",
        "          x = self.conv5( x )\n",
        "          x = self.conv6( x )\n",
        "          x = x.view(-1,shapeData[0],shapeData[1],shapeData[2])\n",
        "          return x\n",
        "\n",
        "  class Decoder(torch.nn.Module):\n",
        "      def __init__(self):\n",
        "          super(Decoder, self).__init__()\n",
        "\n",
        "      def forward(self, x):\n",
        "          return torch.mul(1.,x)\n",
        "\n",
        "class Model_AE(torch.nn.Module):\n",
        "    def __init__(self):\n",
        "        super(Model_AE, self).__init__()\n",
        "        self.encoder = Encoder()\n",
        "        self.decoder = Decoder()\n",
        "\n",
        "    def forward(self, x):\n",
        "        x = self.encoder( x )\n",
        "        x = self.decoder( x )\n",
        "        return x\n",
        "\n",
        "model_AE = Model_AE()\n",
        "\n",
        "print(model_AE)\n",
        "print('Number of trainable parameters = %d'%(sum(p.numel() for p in model_AE.parameters() if p.requires_grad)))"
      ],
      "execution_count": 41,
      "outputs": [
        {
          "output_type": "stream",
          "text": [
            "Model_AE(\n",
            "  (encoder): Encoder(\n",
            "    (conv1): Conv2d(1, 20, kernel_size=(3, 3), stride=(1, 1))\n",
            "    (pool1): AvgPool2d(kernel_size=(2, 2), stride=(2, 2), padding=0)\n",
            "    (conv2): Conv2d(20, 40, kernel_size=(3, 3), stride=(1, 1))\n",
            "    (pool2): AvgPool2d(kernel_size=(2, 2), stride=(2, 2), padding=0)\n",
            "    (conv3): Conv2d(40, 80, kernel_size=(5, 5), stride=(1, 1))\n",
            "    (conv4): Conv2d(80, 20, kernel_size=(1, 1), stride=(1, 1))\n",
            "  )\n",
            "  (decoder): Decoder(\n",
            "    (conv1Tr): ConvTranspose2d(20, 20, kernel_size=(14, 14), stride=(14, 14), bias=False)\n",
            "    (conv11): Conv2d(20, 20, kernel_size=(3, 3), stride=(1, 1), padding=(1, 1))\n",
            "    (conv12): Conv2d(20, 20, kernel_size=(3, 3), stride=(1, 1), padding=(1, 1))\n",
            "    (conv2Tr): ConvTranspose2d(20, 20, kernel_size=(2, 2), stride=(2, 2), bias=False)\n",
            "    (resnet): ResNetConv2D(\n",
            "      (resnet): Sequential(\n",
            "        (0): Conv2d(20, 100, kernel_size=(3, 3), stride=(1, 1), padding=(1, 1), bias=False)\n",
            "        (1): Conv2d(100, 20, kernel_size=(3, 3), stride=(1, 1), padding=(1, 1), bias=False)\n",
            "        (2): Conv2d(20, 100, kernel_size=(3, 3), stride=(1, 1), padding=(1, 1), bias=False)\n",
            "        (3): Conv2d(100, 20, kernel_size=(3, 3), stride=(1, 1), padding=(1, 1), bias=False)\n",
            "      )\n",
            "    )\n",
            "    (convF): Conv2d(20, 1, kernel_size=(1, 1), stride=(1, 1))\n",
            "  )\n",
            ")\n",
            "Number of trainable parameters = 248401\n"
          ],
          "name": "stdout"
        }
      ]
    },
    {
      "cell_type": "code",
      "metadata": {
        "id": "aSHRMru9Ypwb",
        "colab_type": "code",
        "colab": {
          "base_uri": "https://localhost:8080/",
          "height": 1000
        },
        "outputId": "26835925-bf75-45b0-a04c-2b450c84dcd8"
      },
      "source": [
        "#Model visualisation\n",
        "inputs = torch.randn(21,1,28,28)\n",
        "y = model_AE(torch.autograd.Variable(inputs))\n",
        "print(y.size())\n",
        "torchviz.make_dot(y)"
      ],
      "execution_count": 42,
      "outputs": [
        {
          "output_type": "stream",
          "text": [
            "torch.Size([21, 1, 28, 28])\n"
          ],
          "name": "stdout"
        },
        {
          "output_type": "execute_result",
          "data": {
            "text/plain": [
              "<graphviz.dot.Digraph at 0x7f158805dfd0>"
            ],
            "image/svg+xml": "<?xml version=\"1.0\" encoding=\"UTF-8\" standalone=\"no\"?>\n<!DOCTYPE svg PUBLIC \"-//W3C//DTD SVG 1.1//EN\"\n \"http://www.w3.org/Graphics/SVG/1.1/DTD/svg11.dtd\">\n<!-- Generated by graphviz version 2.40.1 (20161225.0304)\n -->\n<!-- Title: %3 Pages: 1 -->\n<svg width=\"742pt\" height=\"1048pt\"\n viewBox=\"0.00 0.00 741.59 1048.00\" xmlns=\"http://www.w3.org/2000/svg\" xmlns:xlink=\"http://www.w3.org/1999/xlink\">\n<g id=\"graph0\" class=\"graph\" transform=\"scale(.619 .619) rotate(0) translate(4 1689)\">\n<title>%3</title>\n<polygon fill=\"#ffffff\" stroke=\"transparent\" points=\"-4,4 -4,-1689 1194,-1689 1194,4 -4,4\"/>\n<!-- 139730388914072 -->\n<g id=\"node1\" class=\"node\">\n<title>139730388914072</title>\n<polygon fill=\"#caff70\" stroke=\"#000000\" points=\"1161,-21 999,-21 999,0 1161,0 1161,-21\"/>\n<text text-anchor=\"middle\" x=\"1080\" y=\"-7.4\" font-family=\"Times,serif\" font-size=\"12.00\" fill=\"#000000\">MkldnnConvolutionBackward</text>\n</g>\n<!-- 139730388913288 -->\n<g id=\"node2\" class=\"node\">\n<title>139730388913288</title>\n<polygon fill=\"#d3d3d3\" stroke=\"#000000\" points=\"1024,-85 862,-85 862,-64 1024,-64 1024,-85\"/>\n<text text-anchor=\"middle\" x=\"943\" y=\"-71.4\" font-family=\"Times,serif\" font-size=\"12.00\" fill=\"#000000\">MkldnnConvolutionBackward</text>\n</g>\n<!-- 139730388913288&#45;&gt;139730388914072 -->\n<g id=\"edge1\" class=\"edge\">\n<title>139730388913288&#45;&gt;139730388914072</title>\n<path fill=\"none\" stroke=\"#000000\" d=\"M965.6228,-63.9317C988.1311,-53.4168 1022.8703,-37.1883 1048.1593,-25.3745\"/>\n<polygon fill=\"#000000\" stroke=\"#000000\" points=\"1049.7649,-28.4876 1057.3436,-21.084 1046.8021,-22.1455 1049.7649,-28.4876\"/>\n</g>\n<!-- 139730388913232 -->\n<g id=\"node3\" class=\"node\">\n<title>139730388913232</title>\n<polygon fill=\"#d3d3d3\" stroke=\"#000000\" points=\"953,-156 791,-156 791,-135 953,-135 953,-156\"/>\n<text text-anchor=\"middle\" x=\"872\" y=\"-142.4\" font-family=\"Times,serif\" font-size=\"12.00\" fill=\"#000000\">MkldnnConvolutionBackward</text>\n</g>\n<!-- 139730388913232&#45;&gt;139730388913288 -->\n<g id=\"edge2\" class=\"edge\">\n<title>139730388913232&#45;&gt;139730388913288</title>\n<path fill=\"none\" stroke=\"#000000\" d=\"M882.7834,-134.7166C893.9388,-123.5612 911.5585,-105.9415 924.8623,-92.6377\"/>\n<polygon fill=\"#000000\" stroke=\"#000000\" points=\"927.5189,-94.9308 932.1151,-85.3849 922.5692,-89.9811 927.5189,-94.9308\"/>\n</g>\n<!-- 139730388913736 -->\n<g id=\"node4\" class=\"node\">\n<title>139730388913736</title>\n<polygon fill=\"#d3d3d3\" stroke=\"#000000\" points=\"882,-227 720,-227 720,-206 882,-206 882,-227\"/>\n<text text-anchor=\"middle\" x=\"801\" y=\"-213.4\" font-family=\"Times,serif\" font-size=\"12.00\" fill=\"#000000\">MkldnnConvolutionBackward</text>\n</g>\n<!-- 139730388913736&#45;&gt;139730388913232 -->\n<g id=\"edge3\" class=\"edge\">\n<title>139730388913736&#45;&gt;139730388913232</title>\n<path fill=\"none\" stroke=\"#000000\" d=\"M811.7834,-205.7166C822.9388,-194.5612 840.5585,-176.9415 853.8623,-163.6377\"/>\n<polygon fill=\"#000000\" stroke=\"#000000\" points=\"856.5189,-165.9308 861.1151,-156.3849 851.5692,-160.9811 856.5189,-165.9308\"/>\n</g>\n<!-- 139730388913512 -->\n<g id=\"node5\" class=\"node\">\n<title>139730388913512</title>\n<polygon fill=\"#d3d3d3\" stroke=\"#000000\" points=\"811,-298 649,-298 649,-277 811,-277 811,-298\"/>\n<text text-anchor=\"middle\" x=\"730\" y=\"-284.4\" font-family=\"Times,serif\" font-size=\"12.00\" fill=\"#000000\">MkldnnConvolutionBackward</text>\n</g>\n<!-- 139730388913512&#45;&gt;139730388913736 -->\n<g id=\"edge4\" class=\"edge\">\n<title>139730388913512&#45;&gt;139730388913736</title>\n<path fill=\"none\" stroke=\"#000000\" d=\"M740.7834,-276.7166C751.9388,-265.5612 769.5585,-247.9415 782.8623,-234.6377\"/>\n<polygon fill=\"#000000\" stroke=\"#000000\" points=\"785.5189,-236.9308 790.1151,-227.3849 780.5692,-231.9811 785.5189,-236.9308\"/>\n</g>\n<!-- 139730500483952 -->\n<g id=\"node6\" class=\"node\">\n<title>139730500483952</title>\n<polygon fill=\"#d3d3d3\" stroke=\"#000000\" points=\"744.5,-369 565.5,-369 565.5,-348 744.5,-348 744.5,-369\"/>\n<text text-anchor=\"middle\" x=\"655\" y=\"-355.4\" font-family=\"Times,serif\" font-size=\"12.00\" fill=\"#000000\">SlowConvTranspose2DBackward</text>\n</g>\n<!-- 139730500483952&#45;&gt;139730388913512 -->\n<g id=\"edge5\" class=\"edge\">\n<title>139730500483952&#45;&gt;139730388913512</title>\n<path fill=\"none\" stroke=\"#000000\" d=\"M666.3909,-347.7166C678.2849,-336.457 697.1356,-318.6116 711.2333,-305.2658\"/>\n<polygon fill=\"#000000\" stroke=\"#000000\" points=\"713.646,-307.8014 718.5019,-298.3849 708.8336,-302.7179 713.646,-307.8014\"/>\n</g>\n<!-- 139730500483616 -->\n<g id=\"node7\" class=\"node\">\n<title>139730500483616</title>\n<polygon fill=\"#d3d3d3\" stroke=\"#000000\" points=\"649,-440 557,-440 557,-419 649,-419 649,-440\"/>\n<text text-anchor=\"middle\" x=\"603\" y=\"-426.4\" font-family=\"Times,serif\" font-size=\"12.00\" fill=\"#000000\">AddBackward0</text>\n</g>\n<!-- 139730500483616&#45;&gt;139730500483952 -->\n<g id=\"edge6\" class=\"edge\">\n<title>139730500483616&#45;&gt;139730500483952</title>\n<path fill=\"none\" stroke=\"#000000\" d=\"M610.8977,-418.7166C618.8388,-407.874 631.2525,-390.9244 640.8892,-377.7667\"/>\n<polygon fill=\"#000000\" stroke=\"#000000\" points=\"643.9429,-379.5206 647.028,-369.3849 638.2956,-375.3845 643.9429,-379.5206\"/>\n</g>\n<!-- 139730500483504 -->\n<g id=\"node8\" class=\"node\">\n<title>139730500483504</title>\n<polygon fill=\"#d3d3d3\" stroke=\"#000000\" points=\"739,-504 577,-504 577,-483 739,-483 739,-504\"/>\n<text text-anchor=\"middle\" x=\"658\" y=\"-490.4\" font-family=\"Times,serif\" font-size=\"12.00\" fill=\"#000000\">MkldnnConvolutionBackward</text>\n</g>\n<!-- 139730500483504&#45;&gt;139730500483616 -->\n<g id=\"edge7\" class=\"edge\">\n<title>139730500483504&#45;&gt;139730500483616</title>\n<path fill=\"none\" stroke=\"#000000\" d=\"M648.9179,-482.9317C640.7667,-473.4467 628.6201,-459.3125 618.8669,-447.9634\"/>\n<polygon fill=\"#000000\" stroke=\"#000000\" points=\"621.4516,-445.6009 612.2795,-440.2979 616.1427,-450.1633 621.4516,-445.6009\"/>\n</g>\n<!-- 139730500483784 -->\n<g id=\"node9\" class=\"node\">\n<title>139730500483784</title>\n<polygon fill=\"#d3d3d3\" stroke=\"#000000\" points=\"797,-561 703,-561 703,-540 797,-540 797,-561\"/>\n<text text-anchor=\"middle\" x=\"750\" y=\"-547.4\" font-family=\"Times,serif\" font-size=\"12.00\" fill=\"#000000\">ReluBackward0</text>\n</g>\n<!-- 139730500483784&#45;&gt;139730500483504 -->\n<g id=\"edge8\" class=\"edge\">\n<title>139730500483784&#45;&gt;139730500483504</title>\n<path fill=\"none\" stroke=\"#000000\" d=\"M732.6955,-539.7787C718.9459,-531.26 699.5012,-519.2127 683.8979,-509.5454\"/>\n<polygon fill=\"#000000\" stroke=\"#000000\" points=\"685.571,-506.4647 675.2269,-504.1732 681.8842,-512.4152 685.571,-506.4647\"/>\n</g>\n<!-- 139730500483000 -->\n<g id=\"node10\" class=\"node\">\n<title>139730500483000</title>\n<polygon fill=\"#d3d3d3\" stroke=\"#000000\" points=\"848,-618 686,-618 686,-597 848,-597 848,-618\"/>\n<text text-anchor=\"middle\" x=\"767\" y=\"-604.4\" font-family=\"Times,serif\" font-size=\"12.00\" fill=\"#000000\">MkldnnConvolutionBackward</text>\n</g>\n<!-- 139730500483000&#45;&gt;139730500483784 -->\n<g id=\"edge9\" class=\"edge\">\n<title>139730500483000&#45;&gt;139730500483784</title>\n<path fill=\"none\" stroke=\"#000000\" d=\"M763.8024,-596.7787C761.6417,-589.5338 758.7197,-579.7367 756.1206,-571.0221\"/>\n<polygon fill=\"#000000\" stroke=\"#000000\" points=\"759.3954,-569.7557 753.1832,-561.1732 752.6873,-571.7564 759.3954,-569.7557\"/>\n</g>\n<!-- 139730500483840 -->\n<g id=\"node11\" class=\"node\">\n<title>139730500483840</title>\n<polygon fill=\"#d3d3d3\" stroke=\"#000000\" points=\"595,-675 503,-675 503,-654 595,-654 595,-675\"/>\n<text text-anchor=\"middle\" x=\"549\" y=\"-661.4\" font-family=\"Times,serif\" font-size=\"12.00\" fill=\"#000000\">AddBackward0</text>\n</g>\n<!-- 139730500483840&#45;&gt;139730500483616 -->\n<g id=\"edge44\" class=\"edge\">\n<title>139730500483840&#45;&gt;139730500483616</title>\n<path fill=\"none\" stroke=\"#000000\" d=\"M548.4056,-653.8882C547.1619,-625.3226 546.0168,-544.7889 568,-483 572.4436,-470.5103 580.3593,-458.0294 587.5401,-448.2677\"/>\n<polygon fill=\"#000000\" stroke=\"#000000\" points=\"590.4696,-450.2004 593.8074,-440.1451 584.9275,-445.9242 590.4696,-450.2004\"/>\n</g>\n<!-- 139730500483840&#45;&gt;139730500483000 -->\n<g id=\"edge10\" class=\"edge\">\n<title>139730500483840&#45;&gt;139730500483000</title>\n<path fill=\"none\" stroke=\"#000000\" d=\"M589.2386,-653.9789C625.1519,-644.5887 677.8977,-630.7974 716.6078,-620.6759\"/>\n<polygon fill=\"#000000\" stroke=\"#000000\" points=\"717.8378,-623.9721 726.6272,-618.0562 716.067,-617.1997 717.8378,-623.9721\"/>\n</g>\n<!-- 139730500482888 -->\n<g id=\"node12\" class=\"node\">\n<title>139730500482888</title>\n<polygon fill=\"#d3d3d3\" stroke=\"#000000\" points=\"630,-732 468,-732 468,-711 630,-711 630,-732\"/>\n<text text-anchor=\"middle\" x=\"549\" y=\"-718.4\" font-family=\"Times,serif\" font-size=\"12.00\" fill=\"#000000\">MkldnnConvolutionBackward</text>\n</g>\n<!-- 139730500482888&#45;&gt;139730500483840 -->\n<g id=\"edge11\" class=\"edge\">\n<title>139730500482888&#45;&gt;139730500483840</title>\n<path fill=\"none\" stroke=\"#000000\" d=\"M549,-710.7787C549,-703.6134 549,-693.9517 549,-685.3097\"/>\n<polygon fill=\"#000000\" stroke=\"#000000\" points=\"552.5001,-685.1732 549,-675.1732 545.5001,-685.1732 552.5001,-685.1732\"/>\n</g>\n<!-- 139730453569608 -->\n<g id=\"node13\" class=\"node\">\n<title>139730453569608</title>\n<polygon fill=\"#d3d3d3\" stroke=\"#000000\" points=\"597,-796 503,-796 503,-775 597,-775 597,-796\"/>\n<text text-anchor=\"middle\" x=\"550\" y=\"-782.4\" font-family=\"Times,serif\" font-size=\"12.00\" fill=\"#000000\">ReluBackward0</text>\n</g>\n<!-- 139730453569608&#45;&gt;139730500482888 -->\n<g id=\"edge12\" class=\"edge\">\n<title>139730453569608&#45;&gt;139730500482888</title>\n<path fill=\"none\" stroke=\"#000000\" d=\"M549.8349,-774.9317C549.6967,-766.0913 549.4955,-753.2122 549.3252,-742.3135\"/>\n<polygon fill=\"#000000\" stroke=\"#000000\" points=\"552.8246,-742.242 549.1687,-732.2979 545.8255,-742.3514 552.8246,-742.242\"/>\n</g>\n<!-- 139730453569664 -->\n<g id=\"node14\" class=\"node\">\n<title>139730453569664</title>\n<polygon fill=\"#d3d3d3\" stroke=\"#000000\" points=\"668,-860 506,-860 506,-839 668,-839 668,-860\"/>\n<text text-anchor=\"middle\" x=\"587\" y=\"-846.4\" font-family=\"Times,serif\" font-size=\"12.00\" fill=\"#000000\">MkldnnConvolutionBackward</text>\n</g>\n<!-- 139730453569664&#45;&gt;139730453569608 -->\n<g id=\"edge13\" class=\"edge\">\n<title>139730453569664&#45;&gt;139730453569608</title>\n<path fill=\"none\" stroke=\"#000000\" d=\"M580.8902,-838.9317C575.5664,-829.723 567.7091,-816.1319 561.2514,-804.9619\"/>\n<polygon fill=\"#000000\" stroke=\"#000000\" points=\"564.2777,-803.2035 556.2425,-796.2979 558.2175,-806.7071 564.2777,-803.2035\"/>\n</g>\n<!-- 139730500482944 -->\n<g id=\"node15\" class=\"node\">\n<title>139730500482944</title>\n<polygon fill=\"#d3d3d3\" stroke=\"#000000\" points=\"543.5,-924 364.5,-924 364.5,-903 543.5,-903 543.5,-924\"/>\n<text text-anchor=\"middle\" x=\"454\" y=\"-910.4\" font-family=\"Times,serif\" font-size=\"12.00\" fill=\"#000000\">SlowConvTranspose2DBackward</text>\n</g>\n<!-- 139730500482944&#45;&gt;139730500483840 -->\n<g id=\"edge39\" class=\"edge\">\n<title>139730500482944&#45;&gt;139730500483840</title>\n<path fill=\"none\" stroke=\"#000000\" d=\"M450.7596,-902.7589C441.762,-870.6775 419.6291,-773.896 459,-711 468.1187,-696.4326 483.3895,-686.211 498.787,-679.1401\"/>\n<polygon fill=\"#000000\" stroke=\"#000000\" points=\"500.4691,-682.23 508.3366,-675.134 497.7611,-675.775 500.4691,-682.23\"/>\n</g>\n<!-- 139730500482944&#45;&gt;139730453569664 -->\n<g id=\"edge14\" class=\"edge\">\n<title>139730500482944&#45;&gt;139730453569664</title>\n<path fill=\"none\" stroke=\"#000000\" d=\"M475.9622,-902.9317C497.7172,-892.4632 531.2414,-876.3312 555.764,-864.5309\"/>\n<polygon fill=\"#000000\" stroke=\"#000000\" points=\"557.5118,-867.574 565.0051,-860.084 554.4765,-861.2663 557.5118,-867.574\"/>\n</g>\n<!-- 139730453569944 -->\n<g id=\"node16\" class=\"node\">\n<title>139730453569944</title>\n<polygon fill=\"#d3d3d3\" stroke=\"#000000\" points=\"444.5,-995 353.5,-995 353.5,-974 444.5,-974 444.5,-995\"/>\n<text text-anchor=\"middle\" x=\"399\" y=\"-981.4\" font-family=\"Times,serif\" font-size=\"12.00\" fill=\"#000000\">ViewBackward</text>\n</g>\n<!-- 139730453569944&#45;&gt;139730500482944 -->\n<g id=\"edge15\" class=\"edge\">\n<title>139730453569944&#45;&gt;139730500482944</title>\n<path fill=\"none\" stroke=\"#000000\" d=\"M407.3533,-973.7166C415.8333,-962.7697 429.1354,-945.5979 439.3683,-932.3882\"/>\n<polygon fill=\"#000000\" stroke=\"#000000\" points=\"442.211,-934.4338 445.5681,-924.3849 436.6771,-930.147 442.211,-934.4338\"/>\n</g>\n<!-- 139730453570056 -->\n<g id=\"node17\" class=\"node\">\n<title>139730453570056</title>\n<polygon fill=\"#d3d3d3\" stroke=\"#000000\" points=\"444.5,-1059 353.5,-1059 353.5,-1038 444.5,-1038 444.5,-1059\"/>\n<text text-anchor=\"middle\" x=\"399\" y=\"-1045.4\" font-family=\"Times,serif\" font-size=\"12.00\" fill=\"#000000\">ViewBackward</text>\n</g>\n<!-- 139730453570056&#45;&gt;139730453569944 -->\n<g id=\"edge16\" class=\"edge\">\n<title>139730453570056&#45;&gt;139730453569944</title>\n<path fill=\"none\" stroke=\"#000000\" d=\"M399,-1037.9317C399,-1029.0913 399,-1016.2122 399,-1005.3135\"/>\n<polygon fill=\"#000000\" stroke=\"#000000\" points=\"402.5001,-1005.2979 399,-995.2979 395.5001,-1005.2979 402.5001,-1005.2979\"/>\n</g>\n<!-- 139730453570168 -->\n<g id=\"node18\" class=\"node\">\n<title>139730453570168</title>\n<polygon fill=\"#d3d3d3\" stroke=\"#000000\" points=\"480,-1116 318,-1116 318,-1095 480,-1095 480,-1116\"/>\n<text text-anchor=\"middle\" x=\"399\" y=\"-1102.4\" font-family=\"Times,serif\" font-size=\"12.00\" fill=\"#000000\">MkldnnConvolutionBackward</text>\n</g>\n<!-- 139730453570168&#45;&gt;139730453570056 -->\n<g id=\"edge17\" class=\"edge\">\n<title>139730453570168&#45;&gt;139730453570056</title>\n<path fill=\"none\" stroke=\"#000000\" d=\"M399,-1094.7787C399,-1087.6134 399,-1077.9517 399,-1069.3097\"/>\n<polygon fill=\"#000000\" stroke=\"#000000\" points=\"402.5001,-1069.1732 399,-1059.1732 395.5001,-1069.1732 402.5001,-1069.1732\"/>\n</g>\n<!-- 139730453570280 -->\n<g id=\"node19\" class=\"node\">\n<title>139730453570280</title>\n<polygon fill=\"#d3d3d3\" stroke=\"#000000\" points=\"340,-1180 246,-1180 246,-1159 340,-1159 340,-1180\"/>\n<text text-anchor=\"middle\" x=\"293\" y=\"-1166.4\" font-family=\"Times,serif\" font-size=\"12.00\" fill=\"#000000\">ReluBackward0</text>\n</g>\n<!-- 139730453570280&#45;&gt;139730453570168 -->\n<g id=\"edge18\" class=\"edge\">\n<title>139730453570280&#45;&gt;139730453570168</title>\n<path fill=\"none\" stroke=\"#000000\" d=\"M310.5037,-1158.9317C327.4587,-1148.6948 353.3832,-1133.0422 372.7976,-1121.3203\"/>\n<polygon fill=\"#000000\" stroke=\"#000000\" points=\"374.7187,-1124.249 381.4703,-1116.084 371.1005,-1118.2565 374.7187,-1124.249\"/>\n</g>\n<!-- 139730453570504 -->\n<g id=\"node20\" class=\"node\">\n<title>139730453570504</title>\n<polygon fill=\"#d3d3d3\" stroke=\"#000000\" points=\"374,-1244 212,-1244 212,-1223 374,-1223 374,-1244\"/>\n<text text-anchor=\"middle\" x=\"293\" y=\"-1230.4\" font-family=\"Times,serif\" font-size=\"12.00\" fill=\"#000000\">MkldnnConvolutionBackward</text>\n</g>\n<!-- 139730453570504&#45;&gt;139730453570280 -->\n<g id=\"edge19\" class=\"edge\">\n<title>139730453570504&#45;&gt;139730453570280</title>\n<path fill=\"none\" stroke=\"#000000\" d=\"M293,-1222.9317C293,-1214.0913 293,-1201.2122 293,-1190.3135\"/>\n<polygon fill=\"#000000\" stroke=\"#000000\" points=\"296.5001,-1190.2979 293,-1180.2979 289.5001,-1190.2979 296.5001,-1190.2979\"/>\n</g>\n<!-- 139730453570672 -->\n<g id=\"node21\" class=\"node\">\n<title>139730453570672</title>\n<polygon fill=\"#d3d3d3\" stroke=\"#000000\" points=\"234,-1308 140,-1308 140,-1287 234,-1287 234,-1308\"/>\n<text text-anchor=\"middle\" x=\"187\" y=\"-1294.4\" font-family=\"Times,serif\" font-size=\"12.00\" fill=\"#000000\">ReluBackward0</text>\n</g>\n<!-- 139730453570672&#45;&gt;139730453570504 -->\n<g id=\"edge20\" class=\"edge\">\n<title>139730453570672&#45;&gt;139730453570504</title>\n<path fill=\"none\" stroke=\"#000000\" d=\"M204.5037,-1286.9317C221.4587,-1276.6948 247.3832,-1261.0422 266.7976,-1249.3203\"/>\n<polygon fill=\"#000000\" stroke=\"#000000\" points=\"268.7187,-1252.249 275.4703,-1244.084 265.1005,-1246.2565 268.7187,-1252.249\"/>\n</g>\n<!-- 139730453570896 -->\n<g id=\"node22\" class=\"node\">\n<title>139730453570896</title>\n<polygon fill=\"#d3d3d3\" stroke=\"#000000\" points=\"248,-1372 126,-1372 126,-1351 248,-1351 248,-1372\"/>\n<text text-anchor=\"middle\" x=\"187\" y=\"-1358.4\" font-family=\"Times,serif\" font-size=\"12.00\" fill=\"#000000\">AvgPool2DBackward</text>\n</g>\n<!-- 139730453570896&#45;&gt;139730453570672 -->\n<g id=\"edge21\" class=\"edge\">\n<title>139730453570896&#45;&gt;139730453570672</title>\n<path fill=\"none\" stroke=\"#000000\" d=\"M187,-1350.9317C187,-1342.0913 187,-1329.2122 187,-1318.3135\"/>\n<polygon fill=\"#000000\" stroke=\"#000000\" points=\"190.5001,-1318.2979 187,-1308.2979 183.5001,-1318.2979 190.5001,-1318.2979\"/>\n</g>\n<!-- 139730453571120 -->\n<g id=\"node23\" class=\"node\">\n<title>139730453571120</title>\n<polygon fill=\"#d3d3d3\" stroke=\"#000000\" points=\"268,-1429 106,-1429 106,-1408 268,-1408 268,-1429\"/>\n<text text-anchor=\"middle\" x=\"187\" y=\"-1415.4\" font-family=\"Times,serif\" font-size=\"12.00\" fill=\"#000000\">MkldnnConvolutionBackward</text>\n</g>\n<!-- 139730453571120&#45;&gt;139730453570896 -->\n<g id=\"edge22\" class=\"edge\">\n<title>139730453571120&#45;&gt;139730453570896</title>\n<path fill=\"none\" stroke=\"#000000\" d=\"M187,-1407.7787C187,-1400.6134 187,-1390.9517 187,-1382.3097\"/>\n<polygon fill=\"#000000\" stroke=\"#000000\" points=\"190.5001,-1382.1732 187,-1372.1732 183.5001,-1382.1732 190.5001,-1382.1732\"/>\n</g>\n<!-- 139730453571624 -->\n<g id=\"node24\" class=\"node\">\n<title>139730453571624</title>\n<polygon fill=\"#d3d3d3\" stroke=\"#000000\" points=\"128,-1493 34,-1493 34,-1472 128,-1472 128,-1493\"/>\n<text text-anchor=\"middle\" x=\"81\" y=\"-1479.4\" font-family=\"Times,serif\" font-size=\"12.00\" fill=\"#000000\">ReluBackward0</text>\n</g>\n<!-- 139730453571624&#45;&gt;139730453571120 -->\n<g id=\"edge23\" class=\"edge\">\n<title>139730453571624&#45;&gt;139730453571120</title>\n<path fill=\"none\" stroke=\"#000000\" d=\"M98.5037,-1471.9317C115.4587,-1461.6948 141.3832,-1446.0422 160.7976,-1434.3203\"/>\n<polygon fill=\"#000000\" stroke=\"#000000\" points=\"162.7187,-1437.249 169.4703,-1429.084 159.1005,-1431.2565 162.7187,-1437.249\"/>\n</g>\n<!-- 139730453571568 -->\n<g id=\"node25\" class=\"node\">\n<title>139730453571568</title>\n<polygon fill=\"#d3d3d3\" stroke=\"#000000\" points=\"142,-1557 20,-1557 20,-1536 142,-1536 142,-1557\"/>\n<text text-anchor=\"middle\" x=\"81\" y=\"-1543.4\" font-family=\"Times,serif\" font-size=\"12.00\" fill=\"#000000\">AvgPool2DBackward</text>\n</g>\n<!-- 139730453571568&#45;&gt;139730453571624 -->\n<g id=\"edge24\" class=\"edge\">\n<title>139730453571568&#45;&gt;139730453571624</title>\n<path fill=\"none\" stroke=\"#000000\" d=\"M81,-1535.9317C81,-1527.0913 81,-1514.2122 81,-1503.3135\"/>\n<polygon fill=\"#000000\" stroke=\"#000000\" points=\"84.5001,-1503.2979 81,-1493.2979 77.5001,-1503.2979 84.5001,-1503.2979\"/>\n</g>\n<!-- 139730453571176 -->\n<g id=\"node26\" class=\"node\">\n<title>139730453571176</title>\n<polygon fill=\"#d3d3d3\" stroke=\"#000000\" points=\"162,-1614 0,-1614 0,-1593 162,-1593 162,-1614\"/>\n<text text-anchor=\"middle\" x=\"81\" y=\"-1600.4\" font-family=\"Times,serif\" font-size=\"12.00\" fill=\"#000000\">MkldnnConvolutionBackward</text>\n</g>\n<!-- 139730453571176&#45;&gt;139730453571568 -->\n<g id=\"edge25\" class=\"edge\">\n<title>139730453571176&#45;&gt;139730453571568</title>\n<path fill=\"none\" stroke=\"#000000\" d=\"M81,-1592.7787C81,-1585.6134 81,-1575.9517 81,-1567.3097\"/>\n<polygon fill=\"#000000\" stroke=\"#000000\" points=\"84.5001,-1567.1732 81,-1557.1732 77.5001,-1567.1732 84.5001,-1567.1732\"/>\n</g>\n<!-- 139730453571288 -->\n<g id=\"node27\" class=\"node\">\n<title>139730453571288</title>\n<polygon fill=\"#add8e6\" stroke=\"#000000\" points=\"77.5,-1685 2.5,-1685 2.5,-1650 77.5,-1650 77.5,-1685\"/>\n<text text-anchor=\"middle\" x=\"40\" y=\"-1657.4\" font-family=\"Times,serif\" font-size=\"12.00\" fill=\"#000000\"> (20, 1, 3, 3)</text>\n</g>\n<!-- 139730453571288&#45;&gt;139730453571176 -->\n<g id=\"edge26\" class=\"edge\">\n<title>139730453571288&#45;&gt;139730453571176</title>\n<path fill=\"none\" stroke=\"#000000\" d=\"M51.4208,-1649.6724C56.7802,-1641.3066 63.1771,-1631.3212 68.6488,-1622.7799\"/>\n<polygon fill=\"#000000\" stroke=\"#000000\" points=\"71.6831,-1624.5318 74.1303,-1614.2234 65.7889,-1620.7558 71.6831,-1624.5318\"/>\n</g>\n<!-- 139730453571064 -->\n<g id=\"node28\" class=\"node\">\n<title>139730453571064</title>\n<polygon fill=\"#add8e6\" stroke=\"#000000\" points=\"150,-1685 96,-1685 96,-1650 150,-1650 150,-1685\"/>\n<text text-anchor=\"middle\" x=\"123\" y=\"-1657.4\" font-family=\"Times,serif\" font-size=\"12.00\" fill=\"#000000\"> (20)</text>\n</g>\n<!-- 139730453571064&#45;&gt;139730453571176 -->\n<g id=\"edge27\" class=\"edge\">\n<title>139730453571064&#45;&gt;139730453571176</title>\n<path fill=\"none\" stroke=\"#000000\" d=\"M111.3007,-1649.6724C105.8105,-1641.3066 99.2576,-1631.3212 93.6524,-1622.7799\"/>\n<polygon fill=\"#000000\" stroke=\"#000000\" points=\"96.45,-1620.6636 88.0373,-1614.2234 90.5977,-1624.5042 96.45,-1620.6636\"/>\n</g>\n<!-- 139730453571680 -->\n<g id=\"node29\" class=\"node\">\n<title>139730453571680</title>\n<polygon fill=\"#add8e6\" stroke=\"#000000\" points=\"227.5,-1500 146.5,-1500 146.5,-1465 227.5,-1465 227.5,-1500\"/>\n<text text-anchor=\"middle\" x=\"187\" y=\"-1472.4\" font-family=\"Times,serif\" font-size=\"12.00\" fill=\"#000000\"> (40, 20, 3, 3)</text>\n</g>\n<!-- 139730453571680&#45;&gt;139730453571120 -->\n<g id=\"edge28\" class=\"edge\">\n<title>139730453571680&#45;&gt;139730453571120</title>\n<path fill=\"none\" stroke=\"#000000\" d=\"M187,-1464.6724C187,-1456.8405 187,-1447.5893 187,-1439.4323\"/>\n<polygon fill=\"#000000\" stroke=\"#000000\" points=\"190.5001,-1439.2234 187,-1429.2234 183.5001,-1439.2235 190.5001,-1439.2234\"/>\n</g>\n<!-- 139730453571456 -->\n<g id=\"node30\" class=\"node\">\n<title>139730453571456</title>\n<polygon fill=\"#add8e6\" stroke=\"#000000\" points=\"300,-1500 246,-1500 246,-1465 300,-1465 300,-1500\"/>\n<text text-anchor=\"middle\" x=\"273\" y=\"-1472.4\" font-family=\"Times,serif\" font-size=\"12.00\" fill=\"#000000\"> (40)</text>\n</g>\n<!-- 139730453571456&#45;&gt;139730453571120 -->\n<g id=\"edge29\" class=\"edge\">\n<title>139730453571456&#45;&gt;139730453571120</title>\n<path fill=\"none\" stroke=\"#000000\" d=\"M249.0442,-1464.6724C236.6462,-1455.446 221.6013,-1444.2498 209.4317,-1435.1934\"/>\n<polygon fill=\"#000000\" stroke=\"#000000\" points=\"211.2694,-1432.1981 201.1575,-1429.0358 207.0903,-1437.8138 211.2694,-1432.1981\"/>\n</g>\n<!-- 139730453570616 -->\n<g id=\"node31\" class=\"node\">\n<title>139730453570616</title>\n<polygon fill=\"#add8e6\" stroke=\"#000000\" points=\"333.5,-1315 252.5,-1315 252.5,-1280 333.5,-1280 333.5,-1315\"/>\n<text text-anchor=\"middle\" x=\"293\" y=\"-1287.4\" font-family=\"Times,serif\" font-size=\"12.00\" fill=\"#000000\"> (80, 40, 5, 5)</text>\n</g>\n<!-- 139730453570616&#45;&gt;139730453570504 -->\n<g id=\"edge30\" class=\"edge\">\n<title>139730453570616&#45;&gt;139730453570504</title>\n<path fill=\"none\" stroke=\"#000000\" d=\"M293,-1279.6724C293,-1271.8405 293,-1262.5893 293,-1254.4323\"/>\n<polygon fill=\"#000000\" stroke=\"#000000\" points=\"296.5001,-1254.2234 293,-1244.2234 289.5001,-1254.2235 296.5001,-1254.2234\"/>\n</g>\n<!-- 139730453570728 -->\n<g id=\"node32\" class=\"node\">\n<title>139730453570728</title>\n<polygon fill=\"#add8e6\" stroke=\"#000000\" points=\"406,-1315 352,-1315 352,-1280 406,-1280 406,-1315\"/>\n<text text-anchor=\"middle\" x=\"379\" y=\"-1287.4\" font-family=\"Times,serif\" font-size=\"12.00\" fill=\"#000000\"> (80)</text>\n</g>\n<!-- 139730453570728&#45;&gt;139730453570504 -->\n<g id=\"edge31\" class=\"edge\">\n<title>139730453570728&#45;&gt;139730453570504</title>\n<path fill=\"none\" stroke=\"#000000\" d=\"M355.0442,-1279.6724C342.6462,-1270.446 327.6013,-1259.2498 315.4317,-1250.1934\"/>\n<polygon fill=\"#000000\" stroke=\"#000000\" points=\"317.2694,-1247.1981 307.1575,-1244.0358 313.0903,-1252.8138 317.2694,-1247.1981\"/>\n</g>\n<!-- 139730453570392 -->\n<g id=\"node33\" class=\"node\">\n<title>139730453570392</title>\n<polygon fill=\"#add8e6\" stroke=\"#000000\" points=\"439.5,-1187 358.5,-1187 358.5,-1152 439.5,-1152 439.5,-1187\"/>\n<text text-anchor=\"middle\" x=\"399\" y=\"-1159.4\" font-family=\"Times,serif\" font-size=\"12.00\" fill=\"#000000\"> (20, 80, 1, 1)</text>\n</g>\n<!-- 139730453570392&#45;&gt;139730453570168 -->\n<g id=\"edge32\" class=\"edge\">\n<title>139730453570392&#45;&gt;139730453570168</title>\n<path fill=\"none\" stroke=\"#000000\" d=\"M399,-1151.6724C399,-1143.8405 399,-1134.5893 399,-1126.4323\"/>\n<polygon fill=\"#000000\" stroke=\"#000000\" points=\"402.5001,-1126.2234 399,-1116.2234 395.5001,-1126.2235 402.5001,-1126.2234\"/>\n</g>\n<!-- 139730453570448 -->\n<g id=\"node34\" class=\"node\">\n<title>139730453570448</title>\n<polygon fill=\"#add8e6\" stroke=\"#000000\" points=\"512,-1187 458,-1187 458,-1152 512,-1152 512,-1187\"/>\n<text text-anchor=\"middle\" x=\"485\" y=\"-1159.4\" font-family=\"Times,serif\" font-size=\"12.00\" fill=\"#000000\"> (20)</text>\n</g>\n<!-- 139730453570448&#45;&gt;139730453570168 -->\n<g id=\"edge33\" class=\"edge\">\n<title>139730453570448&#45;&gt;139730453570168</title>\n<path fill=\"none\" stroke=\"#000000\" d=\"M461.0442,-1151.6724C448.6462,-1142.446 433.6013,-1131.2498 421.4317,-1122.1934\"/>\n<polygon fill=\"#000000\" stroke=\"#000000\" points=\"423.2694,-1119.1981 413.1575,-1116.0358 419.0903,-1124.8138 423.2694,-1119.1981\"/>\n</g>\n<!-- 139730453570112 -->\n<g id=\"node35\" class=\"node\">\n<title>139730453570112</title>\n<polygon fill=\"#add8e6\" stroke=\"#000000\" points=\"555.5,-1002 462.5,-1002 462.5,-967 555.5,-967 555.5,-1002\"/>\n<text text-anchor=\"middle\" x=\"509\" y=\"-974.4\" font-family=\"Times,serif\" font-size=\"12.00\" fill=\"#000000\"> (20, 20, 14, 14)</text>\n</g>\n<!-- 139730453570112&#45;&gt;139730500482944 -->\n<g id=\"edge34\" class=\"edge\">\n<title>139730453570112&#45;&gt;139730500482944</title>\n<path fill=\"none\" stroke=\"#000000\" d=\"M495.4045,-966.9494C487.1715,-956.3214 476.6821,-942.7806 468.3213,-931.9875\"/>\n<polygon fill=\"#000000\" stroke=\"#000000\" points=\"471.0471,-929.7909 462.1561,-924.0288 465.5132,-934.0778 471.0471,-929.7909\"/>\n</g>\n<!-- 139730500483168 -->\n<g id=\"node36\" class=\"node\">\n<title>139730500483168</title>\n<polygon fill=\"#add8e6\" stroke=\"#000000\" points=\"657.5,-931 576.5,-931 576.5,-896 657.5,-896 657.5,-931\"/>\n<text text-anchor=\"middle\" x=\"617\" y=\"-903.4\" font-family=\"Times,serif\" font-size=\"12.00\" fill=\"#000000\"> (20, 20, 3, 3)</text>\n</g>\n<!-- 139730500483168&#45;&gt;139730500483000 -->\n<g id=\"edge40\" class=\"edge\">\n<title>139730500483168&#45;&gt;139730500483000</title>\n<path fill=\"none\" stroke=\"#000000\" d=\"M647.058,-895.9734C679.627,-874.4673 727,-834.7252 727,-785.5 727,-785.5 727,-785.5 727,-721.5 727,-686.7591 743.7445,-649.2513 755.5661,-627.0999\"/>\n<polygon fill=\"#000000\" stroke=\"#000000\" points=\"758.7857,-628.5109 760.5733,-618.068 752.6635,-625.1168 758.7857,-628.5109\"/>\n</g>\n<!-- 139730500483168&#45;&gt;139730453569664 -->\n<g id=\"edge35\" class=\"edge\">\n<title>139730500483168&#45;&gt;139730453569664</title>\n<path fill=\"none\" stroke=\"#000000\" d=\"M608.6433,-895.6724C604.8053,-887.4845 600.24,-877.7453 596.2939,-869.327\"/>\n<polygon fill=\"#000000\" stroke=\"#000000\" points=\"599.4401,-867.7925 592.0266,-860.2234 593.1019,-870.7636 599.4401,-867.7925\"/>\n</g>\n<!-- 139730500483112 -->\n<g id=\"node37\" class=\"node\">\n<title>139730500483112</title>\n<polygon fill=\"#add8e6\" stroke=\"#000000\" points=\"761,-931 707,-931 707,-896 761,-896 761,-931\"/>\n<text text-anchor=\"middle\" x=\"734\" y=\"-903.4\" font-family=\"Times,serif\" font-size=\"12.00\" fill=\"#000000\"> (20)</text>\n</g>\n<!-- 139730500483112&#45;&gt;139730500483000 -->\n<g id=\"edge41\" class=\"edge\">\n<title>139730500483112&#45;&gt;139730500483000</title>\n<path fill=\"none\" stroke=\"#000000\" d=\"M741.4219,-895.6235C750.875,-871.1968 766,-825.8148 766,-785.5 766,-785.5 766,-785.5 766,-721.5 766,-688.9909 766.4117,-651.2692 766.7067,-628.4062\"/>\n<polygon fill=\"#000000\" stroke=\"#000000\" points=\"770.2093,-628.2333 766.8438,-618.1872 763.2099,-628.1394 770.2093,-628.2333\"/>\n</g>\n<!-- 139730500483112&#45;&gt;139730453569664 -->\n<g id=\"edge36\" class=\"edge\">\n<title>139730500483112&#45;&gt;139730453569664</title>\n<path fill=\"none\" stroke=\"#000000\" d=\"M706.6949,-901.6121C682.399,-891.0342 646.7779,-875.5257 620.7125,-864.1776\"/>\n<polygon fill=\"#000000\" stroke=\"#000000\" points=\"621.8,-860.8338 611.2342,-860.0509 619.0057,-867.2519 621.8,-860.8338\"/>\n</g>\n<!-- 139730500483336 -->\n<g id=\"node38\" class=\"node\">\n<title>139730500483336</title>\n<polygon fill=\"#add8e6\" stroke=\"#000000\" points=\"697.5,-803 616.5,-803 616.5,-768 697.5,-768 697.5,-803\"/>\n<text text-anchor=\"middle\" x=\"657\" y=\"-775.4\" font-family=\"Times,serif\" font-size=\"12.00\" fill=\"#000000\"> (20, 20, 3, 3)</text>\n</g>\n<!-- 139730500483336&#45;&gt;139730500483504 -->\n<g id=\"edge42\" class=\"edge\">\n<title>139730500483336&#45;&gt;139730500483504</title>\n<path fill=\"none\" stroke=\"#000000\" d=\"M657.237,-767.8662C657.5327,-744.3077 658,-701.2634 658,-664.5 658,-664.5 658,-664.5 658,-607.5 658,-574.9922 658,-537.2701 658,-514.4067\"/>\n<polygon fill=\"#000000\" stroke=\"#000000\" points=\"661.5001,-514.1875 658,-504.1875 654.5001,-514.1875 661.5001,-514.1875\"/>\n</g>\n<!-- 139730500483336&#45;&gt;139730500482888 -->\n<g id=\"edge37\" class=\"edge\">\n<title>139730500483336&#45;&gt;139730500482888</title>\n<path fill=\"none\" stroke=\"#000000\" d=\"M627.2026,-767.8423C611.0229,-758.2543 591.1881,-746.5003 575.5429,-737.2291\"/>\n<polygon fill=\"#000000\" stroke=\"#000000\" points=\"577.262,-734.1795 566.8747,-732.0924 573.6933,-740.2015 577.262,-734.1795\"/>\n</g>\n<!-- 139730500483280 -->\n<g id=\"node39\" class=\"node\">\n<title>139730500483280</title>\n<polygon fill=\"#add8e6\" stroke=\"#000000\" points=\"412,-803 358,-803 358,-768 412,-768 412,-803\"/>\n<text text-anchor=\"middle\" x=\"385\" y=\"-775.4\" font-family=\"Times,serif\" font-size=\"12.00\" fill=\"#000000\"> (20)</text>\n</g>\n<!-- 139730500483280&#45;&gt;139730500483504 -->\n<g id=\"edge43\" class=\"edge\">\n<title>139730500483280&#45;&gt;139730500483504</title>\n<path fill=\"none\" stroke=\"#000000\" d=\"M386.8959,-767.8899C389.2616,-744.3577 393,-701.3424 393,-664.5 393,-664.5 393,-664.5 393,-607.5 393,-562.9837 520.7838,-525.3212 598.8831,-506.4598\"/>\n<polygon fill=\"#000000\" stroke=\"#000000\" points=\"600.1668,-509.7522 609.0861,-504.034 598.5477,-502.942 600.1668,-509.7522\"/>\n</g>\n<!-- 139730500483280&#45;&gt;139730500482888 -->\n<g id=\"edge38\" class=\"edge\">\n<title>139730500483280&#45;&gt;139730500482888</title>\n<path fill=\"none\" stroke=\"#000000\" d=\"M412.0813,-774.9317C439.5004,-764.2316 482.0813,-747.6146 512.4738,-735.7541\"/>\n<polygon fill=\"#000000\" stroke=\"#000000\" points=\"513.8351,-738.98 521.8785,-732.084 511.2903,-732.459 513.8351,-738.98\"/>\n</g>\n<!-- 139730500482384 -->\n<g id=\"node40\" class=\"node\">\n<title>139730500482384</title>\n<polygon fill=\"#add8e6\" stroke=\"#000000\" points=\"748.5,-447 667.5,-447 667.5,-412 748.5,-412 748.5,-447\"/>\n<text text-anchor=\"middle\" x=\"708\" y=\"-419.4\" font-family=\"Times,serif\" font-size=\"12.00\" fill=\"#000000\"> (20, 20, 2, 2)</text>\n</g>\n<!-- 139730500482384&#45;&gt;139730500483952 -->\n<g id=\"edge45\" class=\"edge\">\n<title>139730500482384&#45;&gt;139730500483952</title>\n<path fill=\"none\" stroke=\"#000000\" d=\"M694.8989,-411.9494C687.0438,-401.4266 677.0573,-388.0484 669.0404,-377.3089\"/>\n<polygon fill=\"#000000\" stroke=\"#000000\" points=\"671.6463,-374.9487 662.8596,-369.0288 666.0368,-379.1361 671.6463,-374.9487\"/>\n</g>\n<!-- 139730500483560 -->\n<g id=\"node41\" class=\"node\">\n<title>139730500483560</title>\n<polygon fill=\"#add8e6\" stroke=\"#000000\" points=\"849.5,-376 762.5,-376 762.5,-341 849.5,-341 849.5,-376\"/>\n<text text-anchor=\"middle\" x=\"806\" y=\"-348.4\" font-family=\"Times,serif\" font-size=\"12.00\" fill=\"#000000\"> (100, 20, 3, 3)</text>\n</g>\n<!-- 139730500483560&#45;&gt;139730388913512 -->\n<g id=\"edge46\" class=\"edge\">\n<title>139730500483560&#45;&gt;139730388913512</title>\n<path fill=\"none\" stroke=\"#000000\" d=\"M787.2135,-340.9494C775.499,-330.0057 760.4788,-315.9736 748.7678,-305.0331\"/>\n<polygon fill=\"#000000\" stroke=\"#000000\" points=\"750.967,-302.2979 741.2703,-298.0288 746.1884,-307.4131 750.967,-302.2979\"/>\n</g>\n<!-- 139730500483672 -->\n<g id=\"node42\" class=\"node\">\n<title>139730500483672</title>\n<polygon fill=\"#add8e6\" stroke=\"#000000\" points=\"916.5,-305 829.5,-305 829.5,-270 916.5,-270 916.5,-305\"/>\n<text text-anchor=\"middle\" x=\"873\" y=\"-277.4\" font-family=\"Times,serif\" font-size=\"12.00\" fill=\"#000000\"> (20, 100, 3, 3)</text>\n</g>\n<!-- 139730500483672&#45;&gt;139730388913736 -->\n<g id=\"edge47\" class=\"edge\">\n<title>139730500483672&#45;&gt;139730388913736</title>\n<path fill=\"none\" stroke=\"#000000\" d=\"M855.2022,-269.9494C844.2111,-259.1109 830.148,-245.2431 819.101,-234.3496\"/>\n<polygon fill=\"#000000\" stroke=\"#000000\" points=\"821.255,-231.5582 811.6771,-227.0288 816.34,-236.5424 821.255,-231.5582\"/>\n</g>\n<!-- 139730388914016 -->\n<g id=\"node43\" class=\"node\">\n<title>139730388914016</title>\n<polygon fill=\"#add8e6\" stroke=\"#000000\" points=\"987.5,-234 900.5,-234 900.5,-199 987.5,-199 987.5,-234\"/>\n<text text-anchor=\"middle\" x=\"944\" y=\"-206.4\" font-family=\"Times,serif\" font-size=\"12.00\" fill=\"#000000\"> (100, 20, 3, 3)</text>\n</g>\n<!-- 139730388914016&#45;&gt;139730388913232 -->\n<g id=\"edge48\" class=\"edge\">\n<title>139730388914016&#45;&gt;139730388913232</title>\n<path fill=\"none\" stroke=\"#000000\" d=\"M926.2022,-198.9494C915.2111,-188.1109 901.148,-174.2431 890.101,-163.3496\"/>\n<polygon fill=\"#000000\" stroke=\"#000000\" points=\"892.255,-160.5582 882.6771,-156.0288 887.34,-165.5424 892.255,-160.5582\"/>\n</g>\n<!-- 139730388913456 -->\n<g id=\"node44\" class=\"node\">\n<title>139730388913456</title>\n<polygon fill=\"#add8e6\" stroke=\"#000000\" points=\"1058.5,-163 971.5,-163 971.5,-128 1058.5,-128 1058.5,-163\"/>\n<text text-anchor=\"middle\" x=\"1015\" y=\"-135.4\" font-family=\"Times,serif\" font-size=\"12.00\" fill=\"#000000\"> (20, 100, 3, 3)</text>\n</g>\n<!-- 139730388913456&#45;&gt;139730388913288 -->\n<g id=\"edge49\" class=\"edge\">\n<title>139730388913456&#45;&gt;139730388913288</title>\n<path fill=\"none\" stroke=\"#000000\" d=\"M997.2022,-127.9494C986.2111,-117.1109 972.148,-103.2431 961.101,-92.3496\"/>\n<polygon fill=\"#000000\" stroke=\"#000000\" points=\"963.255,-89.5582 953.6771,-85.0288 958.34,-94.5424 963.255,-89.5582\"/>\n</g>\n<!-- 139730388913848 -->\n<g id=\"node45\" class=\"node\">\n<title>139730388913848</title>\n<polygon fill=\"#add8e6\" stroke=\"#000000\" points=\"1117.5,-92 1042.5,-92 1042.5,-57 1117.5,-57 1117.5,-92\"/>\n<text text-anchor=\"middle\" x=\"1080\" y=\"-64.4\" font-family=\"Times,serif\" font-size=\"12.00\" fill=\"#000000\"> (1, 20, 1, 1)</text>\n</g>\n<!-- 139730388913848&#45;&gt;139730388914072 -->\n<g id=\"edge50\" class=\"edge\">\n<title>139730388913848&#45;&gt;139730388914072</title>\n<path fill=\"none\" stroke=\"#000000\" d=\"M1080,-56.6724C1080,-48.8405 1080,-39.5893 1080,-31.4323\"/>\n<polygon fill=\"#000000\" stroke=\"#000000\" points=\"1083.5001,-31.2234 1080,-21.2234 1076.5001,-31.2235 1083.5001,-31.2234\"/>\n</g>\n<!-- 139730388913680 -->\n<g id=\"node46\" class=\"node\">\n<title>139730388913680</title>\n<polygon fill=\"#add8e6\" stroke=\"#000000\" points=\"1190,-92 1136,-92 1136,-57 1190,-57 1190,-92\"/>\n<text text-anchor=\"middle\" x=\"1163\" y=\"-64.4\" font-family=\"Times,serif\" font-size=\"12.00\" fill=\"#000000\"> (1)</text>\n</g>\n<!-- 139730388913680&#45;&gt;139730388914072 -->\n<g id=\"edge51\" class=\"edge\">\n<title>139730388913680&#45;&gt;139730388914072</title>\n<path fill=\"none\" stroke=\"#000000\" d=\"M1139.8799,-56.6724C1127.9916,-47.5056 1113.5816,-36.3942 1101.8769,-27.3689\"/>\n<polygon fill=\"#000000\" stroke=\"#000000\" points=\"1103.9633,-24.5581 1093.9069,-21.2234 1099.6889,-30.1015 1103.9633,-24.5581\"/>\n</g>\n</g>\n</svg>\n"
          },
          "metadata": {
            "tags": []
          },
          "execution_count": 42
        }
      ]
    },
    {
      "cell_type": "markdown",
      "metadata": {
        "id": "lI5jYHQwd2tp",
        "colab_type": "text"
      },
      "source": [
        "# Learning AE model"
      ]
    },
    {
      "cell_type": "code",
      "metadata": {
        "id": "7Rq2cf5TZDRR",
        "colab_type": "code",
        "colab": {}
      },
      "source": [
        "# Create training/test data pytorch tensors and associated  \n",
        "# list of tensors (xx[n][x] to access the nth sample for the xth field)\n",
        "training_dataset     = torch.utils.data.TensorDataset(torch.Tensor(x_train)) # create your datset\n",
        "test_dataset         = torch.utils.data.TensorDataset(torch.Tensor(x_test)) # create your datset\n",
        "\n",
        "dataloaders = {\n",
        "    'train': torch.utils.data.DataLoader(training_dataset, batch_size=32, shuffle=True, num_workers=4, pin_memory=True),\n",
        "    'val': torch.utils.data.DataLoader(test_dataset, batch_size=32, shuffle=True, num_workers=4, pin_memory=True),\n",
        "}\n",
        "\n",
        "dataset_sizes = {'train': len(training_dataset), 'val': len(test_dataset)}"
      ],
      "execution_count": 0,
      "outputs": []
    },
    {
      "cell_type": "code",
      "metadata": {
        "id": "WVV21ui4ZIXr",
        "colab_type": "code",
        "colab": {}
      },
      "source": [
        "#  use gpu if available\n",
        "device = torch.device(\"cuda\" if torch.cuda.is_available() else \"cpu\")\n",
        "\n",
        "# create a model from `AE` autoencoder class\n",
        "# load it to the specified device, either gpu or cpu\n",
        "model_AE  = model_AE.to(device)\n",
        "#model_AE.resnet = model_AE.decoder.resnet.to(device)\n",
        "\n",
        "# create an optimizer object\n",
        "# Adam optimizer with learning rate 1e-3\n",
        "optimizer        = optim.Adam(model_AE.parameters(), lr=1e-3)\n",
        "exp_lr_scheduler = lr_scheduler.StepLR(optimizer, step_size=30, gamma=0.1)\n",
        "\n",
        "# mean-squared error loss\n",
        "criterion = torch.nn.MSELoss()\n",
        "var_Tr    = np.var( x_train )\n",
        "var_Tt    = np.var( x_test )\n",
        "\n",
        "# training function\n",
        "def train_model(model, criterion, optimizer, scheduler, num_epochs=25):\n",
        "    since = time.time()\n",
        "\n",
        "    best_model_wts = copy.deepcopy(model.state_dict())\n",
        "    best_loss = 1e10\n",
        "\n",
        "    for epoch in range(num_epochs):\n",
        "        print('Epoch {}/{}'.format(epoch, num_epochs - 1))\n",
        "        print('-' * 10)\n",
        "\n",
        "        # Each epoch has a training and validation phase\n",
        "        for phase in ['train', 'val']:\n",
        "            if phase == 'train':\n",
        "                model.train()  # Set model to training mode\n",
        "            else:\n",
        "                model.eval()   # Set model to evaluate mode\n",
        "\n",
        "            running_loss = 0.0\n",
        "            running_var  = 0.0\n",
        "\n",
        "            # Iterate over data.\n",
        "            for inputs_ in dataloaders[phase]:\n",
        "                inputs = inputs_[0]\n",
        "                inputs = inputs.to(device)\n",
        "                #print(inputs.size(0))\n",
        "\n",
        "                # zero the parameter gradients\n",
        "                optimizer.zero_grad()\n",
        "\n",
        "                # forward\n",
        "                # track history if only in train\n",
        "                with torch.set_grad_enabled(phase == 'train'):\n",
        "                    outputs = model(inputs)\n",
        "                    #loss = criterion(outputs, inputs)\n",
        "                    loss = torch.mean((outputs - inputs)**2)\n",
        "\n",
        "                    # backward + optimize only if in training phase\n",
        "                    if phase == 'train':\n",
        "                        loss.backward()\n",
        "                        optimizer.step()\n",
        "\n",
        "                # statistics\n",
        "                running_loss   += loss.item() * inputs.size(0)\n",
        "                #running_expvar += torch.sum( (outputs - inputs)**2 ) / torch.sum(\n",
        "            if phase == 'train':\n",
        "                scheduler.step()\n",
        "\n",
        "            epoch_loss  = running_loss / dataset_sizes[phase]\n",
        "            if phase == 'train':\n",
        "              epoch_nloss = epoch_loss / var_Tr\n",
        "            else:\n",
        "              epoch_nloss = epoch_loss / var_Tt\n",
        "            #epoch_acc = running_corrects.double() / dataset_sizes[phase]\n",
        "\n",
        "            print('{} Loss: {:.4f} NLoss: {:.4f} '.format(\n",
        "                phase, epoch_loss, epoch_nloss))\n",
        "#            print('{} Loss: {:.4f} Acc: {:.4f}'.format(\n",
        "#                phase, epoch_loss, epoch_acc))\n",
        "\n",
        "            # deep copy the model\n",
        "            if phase == 'val' and epoch_loss < best_loss:\n",
        "                best_loss = epoch_loss\n",
        "                best_model_wts = copy.deepcopy(model.state_dict())\n",
        "\n",
        "        print()\n",
        "\n",
        "    time_elapsed = time.time() - since\n",
        "    print('Training complete in {:.0f}m {:.0f}s'.format(\n",
        "        time_elapsed // 60, time_elapsed % 60))\n",
        "    print('Best val loss: {:4f}'.format(best_loss))\n",
        "\n",
        "    # load best model weights\n",
        "    model.load_state_dict(best_model_wts)\n",
        "    return model"
      ],
      "execution_count": 0,
      "outputs": []
    },
    {
      "cell_type": "code",
      "metadata": {
        "id": "rf-la-loZOeQ",
        "colab_type": "code",
        "colab": {
          "base_uri": "https://localhost:8080/",
          "height": 484
        },
        "outputId": "4efe628e-3637-401c-c34e-d95278272ce3"
      },
      "source": [
        "# training AE model\n",
        "model_AE = train_model(model_AE, criterion, optimizer, exp_lr_scheduler,\n",
        "                       num_epochs=5)"
      ],
      "execution_count": 45,
      "outputs": [
        {
          "output_type": "stream",
          "text": [
            "Epoch 0/4\n",
            "----------\n",
            "train Loss: 0.1761 NLoss: 0.1761 \n",
            "val Loss: 0.1030 NLoss: 0.1014 \n",
            "\n",
            "Epoch 1/4\n",
            "----------\n",
            "train Loss: 0.0956 NLoss: 0.0956 \n",
            "val Loss: 0.0887 NLoss: 0.0873 \n",
            "\n",
            "Epoch 2/4\n",
            "----------\n",
            "train Loss: 0.0862 NLoss: 0.0862 \n",
            "val Loss: 0.0823 NLoss: 0.0811 \n",
            "\n",
            "Epoch 3/4\n",
            "----------\n",
            "train Loss: 0.0809 NLoss: 0.0809 \n",
            "val Loss: 0.0809 NLoss: 0.0797 \n",
            "\n",
            "Epoch 4/4\n",
            "----------\n",
            "train Loss: 0.0776 NLoss: 0.0776 \n",
            "val Loss: 0.0755 NLoss: 0.0744 \n",
            "\n",
            "Training complete in 1m 60s\n",
            "Best val loss: 0.075512\n"
          ],
          "name": "stdout"
        }
      ]
    },
    {
      "cell_type": "markdown",
      "metadata": {
        "id": "uuf9FiAYd9pJ",
        "colab_type": "text"
      },
      "source": [
        "# Learning AE model from irregularly-sampled data (DinAE model)"
      ]
    },
    {
      "cell_type": "code",
      "metadata": {
        "id": "qfozh6kaZSai",
        "colab_type": "code",
        "colab": {}
      },
      "source": [
        "# training function for dinAE\n",
        "def train_model(model, optimizer, scheduler,alpha, num_epochs=25):\n",
        "    since = time.time()\n",
        "\n",
        "    alpha_MaskedLoss = alpha[0]\n",
        "    alpha_GTLoss     = 1. - alpha[0]\n",
        "    alpha_AE         = alpha[1]\n",
        "\n",
        "    best_model_wts = copy.deepcopy(model.state_dict())\n",
        "    best_loss = 1e10\n",
        "\n",
        "    for epoch in range(num_epochs):\n",
        "        print('Epoch {}/{}'.format(epoch, num_epochs - 1))\n",
        "        print('-' * 10)\n",
        "\n",
        "        # Each epoch has a training and validation phase\n",
        "        for phase in ['train', 'val']:\n",
        "            if phase == 'train':\n",
        "                #rint('Learning')\n",
        "                model.train()  # Set model to training mode\n",
        "            else:\n",
        "                #print('Evaluation')\n",
        "                model.eval()   # Set model to evaluate mode\n",
        "\n",
        "            running_loss = 0.0\n",
        "            running_loss_All     = 0.\n",
        "            running_loss_R       = 0.\n",
        "            running_loss_I       = 0.\n",
        "            running_loss_AE      = 0.\n",
        "            num_loss     = 0\n",
        "\n",
        "            # Iterate over data.\n",
        "            #for inputs_ in dataloaders[phase]:\n",
        "            #    inputs = inputs_[0].to(device)\n",
        "            for inputs_missing,masks,inputs_GT in dataloaders[phase]:\n",
        "                inputs_missing = inputs_missing.to(device)\n",
        "                masks          = masks.to(device)\n",
        "                inputs_GT      = inputs_GT.to(device)\n",
        "                #print(inputs.size(0))\n",
        "\n",
        "                # zero the parameter gradients\n",
        "                optimizer.zero_grad()\n",
        "\n",
        "                # forward\n",
        "                # need to evaluate grad/backward during the evaluation and training phase for model_AE\n",
        "                with torch.set_grad_enabled(True): \n",
        "                #with torch.set_grad_enabled(phase == 'train'):\n",
        "                    outputs = model(inputs_missing,masks)\n",
        "                    #outputs = model(inputs)\n",
        "                    #loss = criterion( outputs,  inputs)\n",
        "                    loss_R      = torch.sum((outputs - inputs_GT)**2 * masks )\n",
        "                    loss_R      = torch.mul(1.0 / torch.sum(masks),loss_R)\n",
        "                    loss_I      = torch.sum((outputs - inputs_GT)**2 * (1. - masks) )\n",
        "                    loss_I      = torch.mul(1.0 / torch.sum(1.-masks),loss_I)\n",
        "                    loss_All    = torch.mean((outputs - inputs_GT)**2 )\n",
        "                    loss_AE     = torch.mean((model.model_AE(outputs) - outputs)**2 )\n",
        "                    \n",
        "                    if alpha_MaskedLoss > 0.:\n",
        "                        loss = torch.mul(alpha_MaskedLoss,loss_R)\n",
        "                    else: \n",
        "                        loss = torch.mul(alpha_GTLoss,loss_All)\n",
        "                    loss = torch.add(loss,torch.mul(alpha_AE,loss_AE))\n",
        "\n",
        "                    # backward + optimize only if in training phase\n",
        "                    if phase == 'train':\n",
        "                        loss.backward()\n",
        "                        optimizer.step()\n",
        "\n",
        "                # statistics\n",
        "                running_loss             += loss.item() * inputs_missing.size(0)\n",
        "                running_loss_I           += loss_I.item() * inputs_missing.size(0)\n",
        "                running_loss_R           += loss_R.item() * inputs_missing.size(0)\n",
        "                running_loss_All         += loss_All.item() * inputs_missing.size(0)\n",
        "                running_loss_AE          += loss_AE.item() * inputs_missing.size(0)\n",
        "                num_loss                 += inputs_missing.size(0)\n",
        "                #running_expvar += torch.sum( (outputs - inputs)**2 ) / torch.sum(\n",
        "            if phase == 'train':\n",
        "                scheduler.step()\n",
        "\n",
        "            epoch_loss       = running_loss / num_loss\n",
        "            epoch_loss_All   = running_loss_All / num_loss\n",
        "            epoch_loss_AE    = running_loss_AE / num_loss\n",
        "            epoch_loss_I     = running_loss_I / num_loss\n",
        "            epoch_loss_R     = running_loss_R / num_loss\n",
        "            #epoch_acc = running_corrects.double() / dataset_sizes[phase]\n",
        "            if phase == 'train':\n",
        "              epoch_nloss_All = epoch_loss_All / var_Tr\n",
        "              epoch_nloss_I   = epoch_loss_I / var_Tr\n",
        "              epoch_nloss_R   = epoch_loss_R / var_Tr\n",
        "              epoch_nloss_AE   = loss_AE / var_Tr\n",
        "            else:\n",
        "              epoch_nloss_All = epoch_loss_All / var_Tt\n",
        "              epoch_nloss_I   = epoch_loss_I / var_Tt\n",
        "              epoch_nloss_R   = epoch_loss_R / var_Tt\n",
        "              epoch_nloss_AE   = loss_AE / var_Tt\n",
        "\n",
        "            #print('{} Loss: {:.4f} '.format(\n",
        "             #   phase, epoch_loss))\n",
        "            print('{} Loss: {:.4f} NLossAll: {:.4f} NLossR: {:.4f} NLossI: {:.4f} NLossAE: {:.4f}'.format(\n",
        "                phase, epoch_loss,epoch_nloss_All,epoch_nloss_R,epoch_nloss_I,epoch_nloss_AE))\n",
        "\n",
        "            # deep copy the model\n",
        "            if phase == 'val' and epoch_loss < best_loss:\n",
        "                best_loss = epoch_loss\n",
        "                best_model_wts = copy.deepcopy(model.state_dict())\n",
        "\n",
        "        print()\n",
        "\n",
        "    time_elapsed = time.time() - since\n",
        "    print('Training complete in {:.0f}m {:.0f}s'.format(\n",
        "        time_elapsed // 60, time_elapsed % 60))\n",
        "    print('Best val loss: {:4f}'.format(best_loss))\n",
        "\n",
        "    # load best model weights\n",
        "    model.load_state_dict(best_model_wts)\n",
        "    return model\n"
      ],
      "execution_count": 0,
      "outputs": []
    },
    {
      "cell_type": "code",
      "metadata": {
        "id": "xVpMDT5dZnbl",
        "colab_type": "code",
        "colab": {}
      },
      "source": [
        "# Create training/test data pytorch tensors and associated  \n",
        "# list of tensors (xx[n][x] to access the nth sample for the xth field)\n",
        "\n",
        "# no mask\n",
        "#training_dataset     = torch.utils.data.TensorDataset(torch.Tensor(x_train),torch.add(1.0,torch.mul(0.0,torch.Tensor(mask_train))),torch.Tensor(x_train)) # create your datset\n",
        "#test_dataset         = torch.utils.data.TensorDataset(torch.Tensor(x_test),torch.add(1.0,torch.mul(0.0,torch.Tensor(mask_test))),torch.Tensor(x_test)) # create your datset\n",
        "\n",
        "training_dataset     = torch.utils.data.TensorDataset(torch.Tensor(x_train_missing),torch.Tensor(mask_train),torch.Tensor(x_train)) # create your datset\n",
        "test_dataset         = torch.utils.data.TensorDataset(torch.Tensor(x_test_missing),torch.Tensor(mask_test),torch.Tensor(x_test)) # create your datset\n",
        "\n",
        "dataloaders = {\n",
        "    'train': torch.utils.data.DataLoader(training_dataset, batch_size=32, shuffle=True, num_workers=4, pin_memory=True),\n",
        "    'val': torch.utils.data.DataLoader(test_dataset, batch_size=32, shuffle=True, num_workers=4, pin_memory=True),\n",
        "}\n",
        "\n",
        "dataset_sizes = {'train': len(training_dataset), 'val': len(test_dataset)}"
      ],
      "execution_count": 0,
      "outputs": []
    },
    {
      "cell_type": "code",
      "metadata": {
        "id": "d6pS0oGzZodA",
        "colab_type": "code",
        "colab": {
          "base_uri": "https://localhost:8080/",
          "height": 225
        },
        "outputId": "b5375dcd-9e98-42de-8233-a601b3f1f8d5"
      },
      "source": [
        "#  use gpu if available\n",
        "device = torch.device(\"cuda\" if torch.cuda.is_available() else \"cpu\")\n",
        "\n",
        "# mean-squared error loss\n",
        "#criterion = torch.nn.MSELoss()\n",
        "var_Tr    = np.var( x_train )\n",
        "var_Tt    = np.var( x_test )\n",
        "\n",
        "if 1*0:\n",
        "  model_AE2    = Model_AE()\n",
        "\n",
        "if 1*1:\n",
        "    alpha           = np.array([1.0,0.1])\n",
        "    GradType        = 0 # Gradient computation (0: subgradient, 1: true gradient/autograd)\n",
        "    OptimType       = 0 # 0: fixed-step gradient descent, 1: ConvNet_step gradient descent, 2: LSTM-based descent\n",
        "    NiterProjection = 2 # Number of fixed-point iterations\n",
        "    NiterGrad       = 10 # Number of gradient descent step\n",
        "    \n",
        "    # NiterProjection,NiterGrad: global variables\n",
        "    # bug for NiterProjection = 0\n",
        "    shapeData       = x_train.shape[1:]\n",
        "    model_AE_GradFP = dinAE.Model_AE_GradFP(model_AE2,shapeData,NiterProjection,NiterGrad,GradType,OptimType)\n",
        "\n",
        "    model_AE_GradFP = model_AE_GradFP.to(device)\n",
        "\n",
        "    # create an optimizer object\n",
        "    # Adam optimizer with learning rate 1e-3\n",
        "    optimizer        = optim.Adam(model_AE_GradFP.parameters(), lr=1e-3)\n",
        "    exp_lr_scheduler = lr_scheduler.StepLR(optimizer, step_size=50, gamma=0.1)\n",
        "\n",
        "model_AE_GradFP = train_model(model_AE_GradFP, optimizer, exp_lr_scheduler,\n",
        "                       alpha,num_epochs=5)"
      ],
      "execution_count": 0,
      "outputs": [
        {
          "output_type": "stream",
          "text": [
            "Epoch 0/4\n",
            "----------\n",
            "train Loss: 0.4034 NLossAll: 0.6161 NLossR: 1.2239 NLossI: 0.3934 NLossAE: 0.0322\n",
            "val Loss: 0.1763 NLossAll: 0.3583 NLossR: 0.8782 NLossI: 0.1688 NLossAE: 0.0470\n",
            "\n",
            "Epoch 1/4\n",
            "----------\n",
            "train Loss: 0.1477 NLossAll: 0.3447 NLossR: 0.8964 NLossI: 0.1438 NLossAE: 0.0475\n",
            "val Loss: 0.1274 NLossAll: 0.3266 NLossR: 0.8871 NLossI: 0.1223 NLossAE: 0.0244\n",
            "\n",
            "Epoch 2/4\n",
            "----------\n"
          ],
          "name": "stdout"
        }
      ]
    },
    {
      "cell_type": "code",
      "metadata": {
        "id": "4ByMbcI1LdCr",
        "colab_type": "code",
        "colab": {
          "base_uri": "https://localhost:8080/",
          "height": 35
        },
        "outputId": "dddb9f76-af2c-4318-996c-3035b877eec8"
      },
      "source": [
        ""
      ],
      "execution_count": 40,
      "outputs": [
        {
          "output_type": "execute_result",
          "data": {
            "text/plain": [
              "(1, 28, 28)"
            ]
          },
          "metadata": {
            "tags": []
          },
          "execution_count": 40
        }
      ]
    },
    {
      "cell_type": "code",
      "metadata": {
        "id": "qVDi-qLfXhRa",
        "colab_type": "code",
        "colab": {
          "base_uri": "https://localhost:8080/",
          "height": 235
        },
        "outputId": "a6451a62-a195-47c9-e7e1-7253de04badd"
      },
      "source": [
        "### Visualisation of results\n",
        "### Apply model to test data\n",
        "\n",
        "def compute_loss(outputs,inputs_GT,outputs_AE,masks,shapeData):\n",
        "\n",
        "  # masked loss\n",
        "  diff = (outputs - inputs_GT)**2 * masks\n",
        "  masked_loss = torch.sum(diff.view(-1,shapeData[0]*shapeData[1]*shapeData[2]) , 1 )\n",
        "  masked_loss = masked_loss / torch.sum(masks.view(-1,shapeData[0]*shapeData[1]*shapeData[2]) , 1 )\n",
        "\n",
        "  # loss GT\n",
        "  diff = (outputs - inputs_GT)**2\n",
        "  loss_GT = torch.mean(diff.view(-1,shapeData[0]*shapeData[1]*shapeData[2]) , 1 )\n",
        "\n",
        "  # loss AE\n",
        "  diff = (outputs - outputs_AE)**2\n",
        "  loss_AE = torch.mean(diff.view(-1,shapeData[0]*shapeData[1]*shapeData[2]) , 1 )\n",
        "\n",
        "  return masked_loss,loss_GT,loss_AE\n",
        "\n",
        "# apply model\n",
        "outputs = []\n",
        "\n",
        "for inputs_missing,masks,inputs_GT in dataloaders['val']:\n",
        "  inputs_missing = inputs_missing.to(device)\n",
        "  masks          = masks.to(device)\n",
        "  inputs_GT      = inputs_GT.to(device)\n",
        "  with torch.set_grad_enabled(True): \n",
        "  #with torch.set_grad_enabled(phase == 'train'):\n",
        "      outputs_ = model_AE_GradFP(inputs_missing,masks)\n",
        "\n",
        "  # MSE\n",
        "  masked_loss_,loss_GT_,loss_AE_ = compute_loss(outputs_,inputs_GT,model_AE_GradFP.model_AE(outputs_),masks,shapeData)\n",
        "\n",
        "  if len(outputs) == 0:\n",
        "    outputs  = torch.mul(1.0,outputs_)\n",
        "    masked_loss = masked_loss_\n",
        "    loss_GT     = loss_GT_\n",
        "    loss_AE     = loss_AE_\n",
        "  else:\n",
        "    outputs     = torch.cat((outputs,outputs_),0)\n",
        "    masked_loss = torch.cat((masked_loss,masked_loss_),0)\n",
        "    loss_GT     = torch.cat((loss_GT,loss_GT_),0)\n",
        "    loss_AE     = torch.cat((loss_AE,loss_AE_),0)\n",
        "                    \n",
        "mean_masked_loss = torch.mean( masked_loss ).cpu().detach().numpy()\n",
        "mean_loss_GT     = torch.mean( loss_GT ).cpu().detach().numpy()\n",
        "mean_loss_AE     = torch.mean( loss_AE ).cpu().detach().numpy()\n",
        "\n",
        "v = np.var(x_test[:,:,:])\n",
        "\n",
        "# Visualisation\n",
        "# visualize missing data pattern for test data\n",
        "plt.figure()\n",
        "for ii in range(5):\n",
        "    plt.subplot(3, 5, ii + 1)\n",
        "    plt.axis('off')\n",
        "    plt.imshow(inputs_GT[ii,:,:].cpu().detach().numpy().squeeze(), cmap=plt.cm.gray_r)\n",
        "    plt.title('GT')\n",
        "    plt.subplot(3, 5, ii + 1+5)\n",
        "    plt.axis('off')\n",
        "    plt.imshow(inputs_missing[ii,:,:].cpu().detach().numpy().squeeze(), cmap=plt.cm.gray_r)\n",
        "    plt.title('Obs')\n",
        "    plt.subplot(3, 5, ii + 1+10)\n",
        "    plt.axis('off')\n",
        "    plt.imshow(outputs[ii,:,:].cpu().detach().numpy().squeeze(), cmap=plt.cm.gray_r)\n",
        "    plt.title('Obs')\n",
        "plt.show()\n",
        "\n",
        "print('# Random test dataset: NLossMask: {:.4f} NLossGT: {:.4f} NLossAE: {:.4f}'.format(\n",
        "      mean_masked_loss/v, mean_loss_GT/v,mean_loss_AE/v))\n"
      ],
      "execution_count": 1,
      "outputs": [
        {
          "output_type": "error",
          "ename": "NameError",
          "evalue": "ignored",
          "traceback": [
            "\u001b[0;31m---------------------------------------------------------------------------\u001b[0m",
            "\u001b[0;31mNameError\u001b[0m                                 Traceback (most recent call last)",
            "\u001b[0;32m<ipython-input-1-0d497c576a1d>\u001b[0m in \u001b[0;36m<module>\u001b[0;34m()\u001b[0m\n\u001b[1;32m     20\u001b[0m \u001b[0moutputs\u001b[0m \u001b[0;34m=\u001b[0m \u001b[0;34m[\u001b[0m\u001b[0;34m]\u001b[0m\u001b[0;34m\u001b[0m\u001b[0;34m\u001b[0m\u001b[0m\n\u001b[1;32m     21\u001b[0m \u001b[0;34m\u001b[0m\u001b[0m\n\u001b[0;32m---> 22\u001b[0;31m \u001b[0;32mfor\u001b[0m \u001b[0minputs_missing\u001b[0m\u001b[0;34m,\u001b[0m\u001b[0mmasks\u001b[0m\u001b[0;34m,\u001b[0m\u001b[0minputs_GT\u001b[0m \u001b[0;32min\u001b[0m \u001b[0mdataloaders\u001b[0m\u001b[0;34m[\u001b[0m\u001b[0;34m'val'\u001b[0m\u001b[0;34m]\u001b[0m\u001b[0;34m:\u001b[0m\u001b[0;34m\u001b[0m\u001b[0;34m\u001b[0m\u001b[0m\n\u001b[0m\u001b[1;32m     23\u001b[0m   \u001b[0minputs_missing\u001b[0m \u001b[0;34m=\u001b[0m \u001b[0minputs_missing\u001b[0m\u001b[0;34m.\u001b[0m\u001b[0mto\u001b[0m\u001b[0;34m(\u001b[0m\u001b[0mdevice\u001b[0m\u001b[0;34m)\u001b[0m\u001b[0;34m\u001b[0m\u001b[0;34m\u001b[0m\u001b[0m\n\u001b[1;32m     24\u001b[0m   \u001b[0mmasks\u001b[0m          \u001b[0;34m=\u001b[0m \u001b[0mmasks\u001b[0m\u001b[0;34m.\u001b[0m\u001b[0mto\u001b[0m\u001b[0;34m(\u001b[0m\u001b[0mdevice\u001b[0m\u001b[0;34m)\u001b[0m\u001b[0;34m\u001b[0m\u001b[0;34m\u001b[0m\u001b[0m\n",
            "\u001b[0;31mNameError\u001b[0m: name 'dataloaders' is not defined"
          ]
        }
      ]
    },
    {
      "cell_type": "code",
      "metadata": {
        "id": "9xMgXEsMfVsG",
        "colab_type": "code",
        "colab": {
          "base_uri": "https://localhost:8080/",
          "height": 35
        },
        "outputId": "b6a5fc5c-f7f8-4799-c3cf-895b154bd9fd"
      },
      "source": [
        "print(outputs.size())"
      ],
      "execution_count": 109,
      "outputs": [
        {
          "output_type": "stream",
          "text": [
            "torch.Size([896, 1, 28, 28])\n"
          ],
          "name": "stdout"
        }
      ]
    }
  ]
}